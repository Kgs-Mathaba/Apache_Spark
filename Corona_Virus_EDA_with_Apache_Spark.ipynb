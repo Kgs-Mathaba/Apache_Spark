{
  "nbformat": 4,
  "nbformat_minor": 0,
  "metadata": {
    "colab": {
      "name": "functions and transformations with Apache Spark.ipynb",
      "provenance": [],
      "authorship_tag": "ABX9TyNFOWDvd9uWHkIWArcGlkLV",
      "include_colab_link": true
    },
    "kernelspec": {
      "name": "python3",
      "display_name": "Python 3"
    },
    "language_info": {
      "name": "python"
    }
  },
  "cells": [
    {
      "cell_type": "markdown",
      "metadata": {
        "id": "view-in-github",
        "colab_type": "text"
      },
      "source": [
        "<a href=\"https://colab.research.google.com/github/Kgs-Mathaba/Apache_Spark/blob/main/Corona_Virus_EDA_with_Apache_Spark.ipynb\" target=\"_parent\"><img src=\"https://colab.research.google.com/assets/colab-badge.svg\" alt=\"Open In Colab\"/></a>"
      ]
    },
    {
      "cell_type": "code",
      "metadata": {
        "id": "WJMGgBc30erU"
      },
      "source": [
        "!apt-get install openjdk-8-jdk-headless -qq > /dev/null\n",
        "!wget -q https://archive.apache.org/dist/spark/spark-2.4.5/spark-2.4.5-bin-hadoop2.7.tgz\n",
        "!tar xf spark-2.4.5-bin-hadoop2.7.tgz\n",
        "!pip install -q findspark"
      ],
      "execution_count": 1,
      "outputs": []
    },
    {
      "cell_type": "code",
      "metadata": {
        "colab": {
          "base_uri": "https://localhost:8080/"
        },
        "id": "x3FVNo-RI59Y",
        "outputId": "82f2e9b4-1c03-4969-e81b-44b0520bffda"
      },
      "source": [
        "!ls /usr/lib/jvm/"
      ],
      "execution_count": 2,
      "outputs": [
        {
          "output_type": "stream",
          "name": "stdout",
          "text": [
            "default-java\t\t   java-11-openjdk-amd64     java-8-openjdk-amd64\n",
            "java-1.11.0-openjdk-amd64  java-1.8.0-openjdk-amd64\n"
          ]
        }
      ]
    },
    {
      "cell_type": "code",
      "metadata": {
        "colab": {
          "base_uri": "https://localhost:8080/"
        },
        "id": "xH3KgIuBKYo9",
        "outputId": "05045e19-87b1-41c0-aa0d-ddf8e5a88989"
      },
      "source": [
        "!pip install -U pyarrow"
      ],
      "execution_count": 3,
      "outputs": [
        {
          "output_type": "stream",
          "name": "stdout",
          "text": [
            "Requirement already satisfied: pyarrow in /usr/local/lib/python3.7/dist-packages (3.0.0)\n",
            "Collecting pyarrow\n",
            "  Downloading pyarrow-5.0.0-cp37-cp37m-manylinux2014_x86_64.whl (23.6 MB)\n",
            "\u001b[K     |████████████████████████████████| 23.6 MB 120 kB/s \n",
            "\u001b[?25hRequirement already satisfied: numpy>=1.16.6 in /usr/local/lib/python3.7/dist-packages (from pyarrow) (1.19.5)\n",
            "Installing collected packages: pyarrow\n",
            "  Attempting uninstall: pyarrow\n",
            "    Found existing installation: pyarrow 3.0.0\n",
            "    Uninstalling pyarrow-3.0.0:\n",
            "      Successfully uninstalled pyarrow-3.0.0\n",
            "Successfully installed pyarrow-5.0.0\n"
          ]
        }
      ]
    },
    {
      "cell_type": "code",
      "metadata": {
        "id": "acDn2eWgKkcO"
      },
      "source": [
        "import os\n",
        "os.environ[\"JAVA_HOME\"] = \"/usr/lib/jvm/java-8-openjdk-amd64\"\n",
        "os.environ[\"SPARK_HOME\"] = \"/content/spark-2.4.5-bin-hadoop2.7\""
      ],
      "execution_count": 4,
      "outputs": []
    },
    {
      "cell_type": "code",
      "metadata": {
        "id": "AYvYoJMOLPH9"
      },
      "source": [
        "import findspark\n",
        "findspark.init() # search for spark\n",
        "from pyspark.sql import SparkSession\n",
        "spark = SparkSession.builder.master(\"local[*]\").getOrCreate()\n"
      ],
      "execution_count": 5,
      "outputs": []
    },
    {
      "cell_type": "code",
      "metadata": {
        "id": "DaRiS54WNsuv"
      },
      "source": [
        "import sys, tempfile"
      ],
      "execution_count": 10,
      "outputs": []
    },
    {
      "cell_type": "code",
      "metadata": {
        "id": "UudFQM4wp6Wa"
      },
      "source": [
        "import urllib.request as urllib"
      ],
      "execution_count": 11,
      "outputs": []
    },
    {
      "cell_type": "code",
      "metadata": {
        "id": "LZj17HCZN8Nd"
      },
      "source": [
        "BASE_DIR = '/tmp'\n",
        "CORONA_DATA_FILE = os.path.join(BASE_DIR, 'corona_data.csv')"
      ],
      "execution_count": 7,
      "outputs": []
    },
    {
      "cell_type": "code",
      "metadata": {
        "id": "dPf_sXCSOP1l"
      },
      "source": [
        "corona_data = urllib.urlretrieve('https://raw.githubusercontent.com/srivatsan88/YouTubeLI/master/dataset/coronavirus/corona_dataset_latest.csv', CORONA_DATA_FILE)"
      ],
      "execution_count": 12,
      "outputs": []
    },
    {
      "cell_type": "code",
      "metadata": {
        "id": "ZqPiu-yppFQs"
      },
      "source": [
        "BASE_DIR = '/tmp'\n",
        "TWITTER_DATA_FILE = os.path.join(BASE_DIR, 'twitter_data.csv')"
      ],
      "execution_count": 14,
      "outputs": []
    },
    {
      "cell_type": "code",
      "metadata": {
        "id": "6qTENLwvQAQo"
      },
      "source": [
        "tweet_data = urllib.urlretrieve('https://raw.githubusercontent.com/srivatsan88/YouTubeLI/master/dataset/coronavirus/tweets.csv', TWITTER_DATA_FILE)"
      ],
      "execution_count": 15,
      "outputs": []
    },
    {
      "cell_type": "code",
      "metadata": {
        "colab": {
          "base_uri": "https://localhost:8080/"
        },
        "id": "iC0W2JzAqbHJ",
        "outputId": "34e8aa15-b5d2-41f5-daff-2f764f47f08f"
      },
      "source": [
        "!ls /tmp"
      ],
      "execution_count": 16,
      "outputs": [
        {
          "output_type": "stream",
          "name": "stdout",
          "text": [
            "blockmgr-9dc3ddcc-2b34-4d90-8012-52a3eb5a6800\n",
            "corona_data.csv\n",
            "dap_multiplexer.21954c7a4cee.root.log.INFO.20211017-141840.57\n",
            "dap_multiplexer.INFO\n",
            "debugger_21ufkzngy6\n",
            "hsperfdata_root\n",
            "initgoogle_syslog_dir.0\n",
            "spark-02a69ef2-2ae9-40c3-ba16-c2725d50541b\n",
            "spark-c96b0728-fdd3-40f1-9682-b02b32142a4d\n",
            "twitter_data.csv\n"
          ]
        }
      ]
    },
    {
      "cell_type": "code",
      "metadata": {
        "id": "5TSqd00NqgLV"
      },
      "source": [
        "corona_df = spark.read.option(\"inferSchema\", \"true\").csv(\"/tmp/corona_data.csv\", header=True)"
      ],
      "execution_count": 17,
      "outputs": []
    },
    {
      "cell_type": "code",
      "metadata": {
        "colab": {
          "base_uri": "https://localhost:8080/"
        },
        "id": "F9XXtsXfq0YZ",
        "outputId": "7dfe8187-a6b8-4743-a94e-11da58857741"
      },
      "source": [
        "corona_df.show()"
      ],
      "execution_count": 20,
      "outputs": [
        {
          "output_type": "stream",
          "name": "stdout",
          "text": [
            "+---+----------------+--------------------+--------+---------+-------------------+---------+-----+---------+--------------------+----+\n",
            "|_c0|           State|             Country|     Lat|     Long|               Date|Confirmed|Death|Recovered|       state_cleaned|City|\n",
            "+---+----------------+--------------------+--------+---------+-------------------+---------+-----+---------+--------------------+----+\n",
            "|  0|            null|            Thailand|    15.0|    101.0|2020-01-22 00:00:00|        2|    0|        0|             Bangkok|null|\n",
            "|  1|            null|               Japan|    36.0|    138.0|2020-01-22 00:00:00|        2|    0|        0|             Hiraide|null|\n",
            "|  2|            null|           Singapore|  1.2833| 103.8333|2020-01-22 00:00:00|        0|    0|        0|           Singapore|null|\n",
            "|  3|            null|               Nepal| 28.1667|    84.25|2020-01-22 00:00:00|        0|    0|        0|           Kathmandu|null|\n",
            "|  4|            null|            Malaysia|     2.5|    112.5|2020-01-22 00:00:00|        0|    0|        0|             Sarawak|null|\n",
            "|  5|British Columbia|              Canada| 49.2827|-123.1207|2020-01-22 00:00:00|        0|    0|        0|    British Columbia|null|\n",
            "|  6| New South Wales|           Australia|-33.8688| 151.2093|2020-01-22 00:00:00|        0|    0|        0|     New South Wales|null|\n",
            "|  7|        Victoria|           Australia|-37.8136| 144.9631|2020-01-22 00:00:00|        0|    0|        0|            Victoria|null|\n",
            "|  8|      Queensland|           Australia|-28.0167|    153.4|2020-01-22 00:00:00|        0|    0|        0|          Queensland|null|\n",
            "|  9|            null|            Cambodia|   11.55| 104.9167|2020-01-22 00:00:00|        0|    0|        0|          Phnom Penh|null|\n",
            "| 10|            null|           Sri Lanka|     7.0|     81.0|2020-01-22 00:00:00|        0|    0|        0|Sri Jayawardenapu...|null|\n",
            "| 11|            null|             Germany|    51.0|      9.0|2020-01-22 00:00:00|        0|    0|        0|              Berlin|null|\n",
            "| 12|            null|             Finland|    64.0|     26.0|2020-01-22 00:00:00|        0|    0|        0|            Helsinki|null|\n",
            "| 13|            null|United Arab Emirates|    24.0|     54.0|2020-01-22 00:00:00|        0|    0|        0|           Abu Dhabi|null|\n",
            "| 14|            null|         Philippines|    13.0|    122.0|2020-01-22 00:00:00|        0|    0|        0|              Manila|null|\n",
            "| 15|            null|               India|    21.0|     78.0|2020-01-22 00:00:00|        0|    0|        0|           New Delhi|null|\n",
            "| 16|            null|               Italy|    43.0|     12.0|2020-01-22 00:00:00|        0|    0|        0|                Rome|null|\n",
            "| 17|            null|              Sweden|    63.0|     16.0|2020-01-22 00:00:00|        0|    0|        0|           Stockholm|null|\n",
            "| 18|            null|               Spain|    40.0|     -4.0|2020-01-22 00:00:00|        0|    0|        0|              Toledo|null|\n",
            "| 19| South Australia|           Australia|-34.9285| 138.6007|2020-01-22 00:00:00|        0|    0|        0|     South Australia|null|\n",
            "+---+----------------+--------------------+--------+---------+-------------------+---------+-----+---------+--------------------+----+\n",
            "only showing top 20 rows\n",
            "\n"
          ]
        }
      ]
    },
    {
      "cell_type": "code",
      "metadata": {
        "colab": {
          "base_uri": "https://localhost:8080/"
        },
        "id": "I10v7-MRq4gZ",
        "outputId": "6fd662b6-0d33-48fd-e52a-7a6191e29e82"
      },
      "source": [
        "corona_df.count()"
      ],
      "execution_count": 21,
      "outputs": [
        {
          "output_type": "execute_result",
          "data": {
            "text/plain": [
              "28143"
            ]
          },
          "metadata": {},
          "execution_count": 21
        }
      ]
    },
    {
      "cell_type": "code",
      "metadata": {
        "id": "2bkJuRAKuZ-D"
      },
      "source": [
        "twitter_df = spark.read.option(\"inferSchema\", \"true\").csv(\"/tmp/twitter_data.csv\", header=True)"
      ],
      "execution_count": 23,
      "outputs": []
    },
    {
      "cell_type": "code",
      "metadata": {
        "colab": {
          "base_uri": "https://localhost:8080/"
        },
        "id": "giQbBoN_u99i",
        "outputId": "515cf6ab-1425-427b-a5bf-70125f797906"
      },
      "source": [
        "twitter_df.show()"
      ],
      "execution_count": 35,
      "outputs": [
        {
          "output_type": "stream",
          "name": "stdout",
          "text": [
            "+---+----+--------------------+--------------------+--------------------+--------------------+--------------------+--------------------+\n",
            "|_c0| geo|                text|                user|            location|            entities|           sentiment|             country|\n",
            "+---+----+--------------------+--------------------+--------------------+--------------------+--------------------+--------------------+\n",
            "|  0|null|What is God sayin...|          petodinice|               Lagos|[('about #', 'CAR...|{'neg': 0.0, 'neu...|             Nigeria|\n",
            "|  1|null|\"BREAKING: \"\"this...| but i took the t...|                -… \"|     JerryfranksonJF|      Abuja, Nigeria|\"[(\"\"Arsenal's Mi...|\n",
            "|  2|null| #Coronavirus tes...|              cek422|   Pennsylvania, USA|                  []|{'neg': 0.173, 'n...|                 USA|\n",
            "|  3|null| Get ready for ma...|        InfectiousDz|                 NYC|[('World', 'ORG')...|{'neg': 0.085, 'n...|                 USA|\n",
            "|  4|null| The #coronavirus...|          vic_gibson|                null|                ['']|{'neg': 0.0, 'neu...|                null|\n",
            "|  5|null| COVID-19 update ...|      StewartNgilana|Durban | Port Eli...|[('Italy', 'GPE')...|{'neg': 0.178, 'n...|                 USA|\n",
            "|  6|null| It’s painful to ...|           BWheatnyc|             Florida|                  []|{'neg': 0.098, 'n...|                 USA|\n",
            "|  7|null| 📽️Friends, I wi...|             LorseaR|New South Wales, ...|[('Twitter', 'GPE...|{'neg': 0.123, 'n...|           Australia|\n",
            "|  8|null| Questions about ...|         straightj23|        Columbus, OH|[('NAfME', 'CARDI...|{'neg': 0.0, 'neu...|                 USA|\n",
            "|  9|null|How they’re deali...|       _______coolio| South East, England|['', ('Portsmouth...|{'neg': 0.126, 'n...|                  UK|\n",
            "| 10|null| BREAKING: Democr...|      champagneaylin|                null|[('Democrats', 'N...|{'neg': 0.221, 'n...|                null|\n",
            "| 11|null| “If we close dow...|       YorkLawLondon|                  UK|                  []|{'neg': 0.0, 'neu...|      United Kingdom|\n",
            "| 12|null| I pity the poor ...|      BeesonMargaret|                null|                ['']|{'neg': 0.227, 'n...|                null|\n",
            "| 13|null| We’re the heck w...|      harrytiffanyiv| Fort Washington, PA|[('the last 6 wee...|{'neg': 0.0, 'neu...|                 USA|\n",
            "| 14|null| I don't think sh...|         grammyheath|                null|[('Joy', 'PERSON'...|{'neg': 0.0, 'neu...|                null|\n",
            "| 15|null| Well written, so...|      barbara_ellena|Christchurch City...|                  []|{'neg': 0.0, 'neu...|         New Zealand|\n",
            "| 16|null| 1/2 CDC Director...|               fatal|                 USA|[('1/2', 'CARDINA...|{'neg': 0.139, 'n...|       United States|\n",
            "| 17|null| In all seriousne...|          pwjkmiller|                null|                ['']|{'neg': 0.218, 'n...|                null|\n",
            "| 18|null| Wash your hands....|        Mrrandy123RP|          Texas, USA|            ['', '']|{'neg': 0.0, 'neu...|                 USA|\n",
            "| 19|null| #CoronaVirusCana...|           aliensky0|           Worldwide|['', ('CoronaViru...|{'neg': 0.0, 'neu...|                 USA|\n",
            "+---+----+--------------------+--------------------+--------------------+--------------------+--------------------+--------------------+\n",
            "only showing top 20 rows\n",
            "\n"
          ]
        }
      ]
    },
    {
      "cell_type": "code",
      "metadata": {
        "colab": {
          "base_uri": "https://localhost:8080/"
        },
        "id": "uP04_P1ZvGpy",
        "outputId": "5b189050-ca63-41fa-83ee-4cc536fdb5cf"
      },
      "source": [
        "twitter_df.count()"
      ],
      "execution_count": 36,
      "outputs": [
        {
          "output_type": "execute_result",
          "data": {
            "text/plain": [
              "1000"
            ]
          },
          "metadata": {},
          "execution_count": 36
        }
      ]
    },
    {
      "cell_type": "code",
      "metadata": {
        "colab": {
          "base_uri": "https://localhost:8080/"
        },
        "id": "bGggDPEivJah",
        "outputId": "0287ef1e-b051-4569-db82-25b8405994d0"
      },
      "source": [
        "twitter_df.filter(\"country='USA'\")"
      ],
      "execution_count": 37,
      "outputs": [
        {
          "output_type": "execute_result",
          "data": {
            "text/plain": [
              "DataFrame[_c0: int, geo: string, text: string, user: string, location: string, entities: string, sentiment: string, country: string]"
            ]
          },
          "metadata": {},
          "execution_count": 37
        }
      ]
    },
    {
      "cell_type": "code",
      "metadata": {
        "colab": {
          "base_uri": "https://localhost:8080/"
        },
        "id": "kOpxh1n5v6va",
        "outputId": "767ef09c-87df-485a-f0b2-790987fa7fe4"
      },
      "source": [
        "twitter_df.filter(\"country='USA'\").show()"
      ],
      "execution_count": 38,
      "outputs": [
        {
          "output_type": "stream",
          "name": "stdout",
          "text": [
            "+---+----+--------------------+---------------+--------------------+--------------------+--------------------+-------+\n",
            "|_c0| geo|                text|           user|            location|            entities|           sentiment|country|\n",
            "+---+----+--------------------+---------------+--------------------+--------------------+--------------------+-------+\n",
            "|  2|null| #Coronavirus tes...|         cek422|   Pennsylvania, USA|                  []|{'neg': 0.173, 'n...|    USA|\n",
            "|  3|null| Get ready for ma...|   InfectiousDz|                 NYC|[('World', 'ORG')...|{'neg': 0.085, 'n...|    USA|\n",
            "|  5|null| COVID-19 update ...| StewartNgilana|Durban | Port Eli...|[('Italy', 'GPE')...|{'neg': 0.178, 'n...|    USA|\n",
            "|  6|null| It’s painful to ...|      BWheatnyc|             Florida|                  []|{'neg': 0.098, 'n...|    USA|\n",
            "|  8|null| Questions about ...|    straightj23|        Columbus, OH|[('NAfME', 'CARDI...|{'neg': 0.0, 'neu...|    USA|\n",
            "| 13|null| We’re the heck w...| harrytiffanyiv| Fort Washington, PA|[('the last 6 wee...|{'neg': 0.0, 'neu...|    USA|\n",
            "| 18|null| Wash your hands....|   Mrrandy123RP|          Texas, USA|            ['', '']|{'neg': 0.0, 'neu...|    USA|\n",
            "| 19|null| #CoronaVirusCana...|      aliensky0|           Worldwide|['', ('CoronaViru...|{'neg': 0.0, 'neu...|    USA|\n",
            "| 24|null| Dr. Dena Grayson...|billymocolorad2|         Denver area|[('Dena Grayson',...|{'neg': 0.0, 'neu...|    USA|\n",
            "| 29|null| #BREAKING Univer...|  _pulido_nenaa|         Fontana, CA|['', ('BREAKING U...|{'neg': 0.0, 'neu...|    USA|\n",
            "| 31|null| I ordered Alex J...|       rcgillan|       New York, USA|[('Alex Jones', '...|{'neg': 0.109, 'n...|    USA|\n",
            "| 32|null| #CoronavirusExpe...|        AD1968F|California / Florida|['', ('Coronaviru...|{'neg': 0.0, 'neu...|    USA|\n",
            "| 34|null| There is no obje...|       SFAuGrrl|   San Francisco, CA|['', ('FamiliesFi...|{'neg': 0.224, 'n...|    USA|\n",
            "| 36|null| Before #coronavi...|   Frankapistan|       Nashville, TN|[('China', 'GPE')...|{'neg': 0.144, 'n...|    USA|\n",
            "| 40|null|  When it's actua...|      Happyjam5|     Los Angeles, Ca|[('GOP', 'ORG'), ...|{'neg': 0.215, 'n...|    USA|\n",
            "| 41|null|#Coronavirus in #...|   GregoryGLake|              Global|['', ('5', 'CARDI...|{'neg': 0.318, 'n...|    USA|\n",
            "| 49|null| This week we are...|  JamesWithers3|  New York, New York|[('This week', 'D...|{'neg': 0.0, 'neu...|    USA|\n",
            "| 50|null| Trump is now doi...|      NewNewsey|          everywhere|[('Trump', 'ORG')...|{'neg': 0.0, 'neu...|    USA|\n",
            "| 55|null| The last patient...|   Khattarperla|          Highgarden|  [('Wuhan', 'GPE')]|{'neg': 0.0, 'neu...|    USA|\n",
            "| 56|null|...Hope y’all sta...|  Brandon4Brody|          Pueblo, CO|[('CDC', 'ORG'), ...|{'neg': 0.0, 'neu...|    USA|\n",
            "+---+----+--------------------+---------------+--------------------+--------------------+--------------------+-------+\n",
            "only showing top 20 rows\n",
            "\n"
          ]
        }
      ]
    },
    {
      "cell_type": "code",
      "metadata": {
        "colab": {
          "base_uri": "https://localhost:8080/"
        },
        "id": "jRJ5bx0lv_Wy",
        "outputId": "3b352d0d-d5fc-4eb3-b71a-2a0dcc8a6960"
      },
      "source": [
        "twitter_df.filter(\"country='USA' and location like '%New%'\").show()"
      ],
      "execution_count": 39,
      "outputs": [
        {
          "output_type": "stream",
          "name": "stdout",
          "text": [
            "+---+----+--------------------+---------------+--------------------+--------------------+--------------------+-------+\n",
            "|_c0| geo|                text|           user|            location|            entities|           sentiment|country|\n",
            "+---+----+--------------------+---------------+--------------------+--------------------+--------------------+-------+\n",
            "| 31|null| I ordered Alex J...|       rcgillan|       New York, USA|[('Alex Jones', '...|{'neg': 0.109, 'n...|    USA|\n",
            "| 49|null| This week we are...|  JamesWithers3|  New York, New York|[('This week', 'D...|{'neg': 0.0, 'neu...|    USA|\n",
            "| 62|null|Fear will kill #C...| RobertPPurcell|norther New Jerse...|                ['']|{'neg': 0.798, 'n...|    USA|\n",
            "|228|null|This is a very co...|baskingntheGlow|       New York City|[('hourly', 'TIME')]|{'neg': 0.12, 'ne...|    USA|\n",
            "|238|null|I’m reposting thi...|   Veronicaromm|     New Jersey, USA|[('English', 'LAN...|{'neg': 0.0, 'neu...|    USA|\n",
            "|261|null|Too early ...?  #...|      HJeppesen|        New York, NY|                ['']|{'neg': 0.0, 'neu...|    USA|\n",
            "|275|null|  The Republican ...|  GenetBataiile|  New Hampshire, USA|[('Republican', '...|{'neg': 0.0, 'neu...|    USA|\n",
            "|369|null| I still look to ...|   SusanSeaside|         New England|[('SouthKorea', '...|{'neg': 0.0, 'neu...|    USA|\n",
            "|438|null|Can we call the #...|       nilchaks|     New Jersey, USA|                ['']|{'neg': 0.194, 'n...|    USA|\n",
            "|458|null| New deadly #coro...| ssummersabrina|     New Jersey, USA|                ['']|{'neg': 0.236, 'n...|    USA|\n",
            "|471|null|What the Caged Bi...|    AaronNetsky|        New York, NY|                  []|{'neg': 0.0, 'neu...|    USA|\n",
            "|553|null|Me: Tired of hear...|     AmandaB_B8|  New Hampshire, USA|['', ('tonight', ...|{'neg': 0.252, 'n...|    USA|\n",
            "|611|null| Apparently the #...|  BuffaloInABox|   Buffalo, New York|['', ('CoronaViru...|{'neg': 0.171, 'n...|    USA|\n",
            "|612|null| New deadly #coro...|       klazimi1|       New York, USA|                ['']|{'neg': 0.236, 'n...|    USA|\n",
            "|622|null|Can someone pleas...|         pitaru|            New York|                ['']|{'neg': 0.168, 'n...|    USA|\n",
            "|624|null| Trump is now doi...| swirlysunburst|Northwest, New Je...|[('Trump', 'ORG')...|{'neg': 0.0, 'neu...|    USA|\n",
            "|664|null|Marriage in 2020 ...|           sciz|        New York, NY|[('2020', 'DATE')...|{'neg': 0.111, 'n...|    USA|\n",
            "|679|null|ALL MY MONEY ON E...|  misterauyeung|        New York, NY|[('ETF', 'ORG'), '']|{'neg': 0.148, 'n...|    USA|\n",
            "|724|null|#UniversalStudios...| cosmicbooknews|       New York, USA|['', ('UniversalS...|{'neg': 0.0, 'neu...|    USA|\n",
            "|850|null| There is no obje...|         rm1268|       New York, USA|['', ('FamiliesFi...|{'neg': 0.224, 'n...|    USA|\n",
            "+---+----+--------------------+---------------+--------------------+--------------------+--------------------+-------+\n",
            "only showing top 20 rows\n",
            "\n"
          ]
        }
      ]
    },
    {
      "cell_type": "code",
      "metadata": {
        "id": "k5zeHhvhwQFx"
      },
      "source": [
        "tw_filter_df = twitter_df.filter(\"country='USA'\")"
      ],
      "execution_count": 40,
      "outputs": []
    },
    {
      "cell_type": "code",
      "metadata": {
        "colab": {
          "base_uri": "https://localhost:8080/"
        },
        "id": "1oH4oGr3w7Su",
        "outputId": "dff08160-1fab-4d28-d728-d8ed6979f2f0"
      },
      "source": [
        "tw_filter_df.explain() # explains transformation"
      ],
      "execution_count": 41,
      "outputs": [
        {
          "output_type": "stream",
          "name": "stdout",
          "text": [
            "== Physical Plan ==\n",
            "*(1) Project [_c0#114, geo#115, text#116, user#117, location#118, entities#119, sentiment#120, country#121]\n",
            "+- *(1) Filter (isnotnull(country#121) && (country#121 = USA))\n",
            "   +- *(1) FileScan csv [_c0#114,geo#115,text#116,user#117,location#118,entities#119,sentiment#120,country#121] Batched: false, Format: CSV, Location: InMemoryFileIndex[file:/tmp/twitter_data.csv], PartitionFilters: [], PushedFilters: [IsNotNull(country), EqualTo(country,USA)], ReadSchema: struct<_c0:int,geo:string,text:string,user:string,location:string,entities:string,sentiment:strin...\n"
          ]
        }
      ]
    },
    {
      "cell_type": "code",
      "metadata": {
        "id": "dY-YsAt0w94L"
      },
      "source": [
        "tw_filter_df2 = twitter_df.filter(\"country='USA' and location like '%New%'\")"
      ],
      "execution_count": 44,
      "outputs": []
    },
    {
      "cell_type": "code",
      "metadata": {
        "colab": {
          "base_uri": "https://localhost:8080/"
        },
        "id": "4E6eqBSTy4Pb",
        "outputId": "7275d018-53c2-4cfe-f197-0ee76843824f"
      },
      "source": [
        "tw_filter_df2.explain()"
      ],
      "execution_count": 45,
      "outputs": [
        {
          "output_type": "stream",
          "name": "stdout",
          "text": [
            "== Physical Plan ==\n",
            "*(1) Project [_c0#114, geo#115, text#116, user#117, location#118, entities#119, sentiment#120, country#121]\n",
            "+- *(1) Filter (((isnotnull(country#121) && isnotnull(location#118)) && (country#121 = USA)) && Contains(location#118, New))\n",
            "   +- *(1) FileScan csv [_c0#114,geo#115,text#116,user#117,location#118,entities#119,sentiment#120,country#121] Batched: false, Format: CSV, Location: InMemoryFileIndex[file:/tmp/twitter_data.csv], PartitionFilters: [], PushedFilters: [IsNotNull(country), IsNotNull(location), EqualTo(country,USA), StringContains(location,New)], ReadSchema: struct<_c0:int,geo:string,text:string,user:string,location:string,entities:string,sentiment:strin...\n"
          ]
        }
      ]
    },
    {
      "cell_type": "code",
      "metadata": {
        "colab": {
          "base_uri": "https://localhost:8080/"
        },
        "id": "M5THz7ony9OD",
        "outputId": "c9ba5596-6140-4801-d20a-bd85a05b469b"
      },
      "source": [
        "tw_filter_df2.show(5)"
      ],
      "execution_count": 46,
      "outputs": [
        {
          "output_type": "stream",
          "name": "stdout",
          "text": [
            "+---+----+--------------------+---------------+--------------------+--------------------+--------------------+-------+\n",
            "|_c0| geo|                text|           user|            location|            entities|           sentiment|country|\n",
            "+---+----+--------------------+---------------+--------------------+--------------------+--------------------+-------+\n",
            "| 31|null| I ordered Alex J...|       rcgillan|       New York, USA|[('Alex Jones', '...|{'neg': 0.109, 'n...|    USA|\n",
            "| 49|null| This week we are...|  JamesWithers3|  New York, New York|[('This week', 'D...|{'neg': 0.0, 'neu...|    USA|\n",
            "| 62|null|Fear will kill #C...| RobertPPurcell|norther New Jerse...|                ['']|{'neg': 0.798, 'n...|    USA|\n",
            "|228|null|This is a very co...|baskingntheGlow|       New York City|[('hourly', 'TIME')]|{'neg': 0.12, 'ne...|    USA|\n",
            "|238|null|I’m reposting thi...|   Veronicaromm|     New Jersey, USA|[('English', 'LAN...|{'neg': 0.0, 'neu...|    USA|\n",
            "+---+----+--------------------+---------------+--------------------+--------------------+--------------------+-------+\n",
            "only showing top 5 rows\n",
            "\n"
          ]
        }
      ]
    },
    {
      "cell_type": "code",
      "metadata": {
        "id": "3R-26nJ3zUFS"
      },
      "source": [
        "from pyspark.sql.functions import col\n",
        "tw_filter_df = twitter_df.filter(col(\"location\").startswith(\"N\"))"
      ],
      "execution_count": 50,
      "outputs": []
    },
    {
      "cell_type": "code",
      "metadata": {
        "colab": {
          "base_uri": "https://localhost:8080/"
        },
        "id": "EJA5n5uczg9K",
        "outputId": "acef1304-c002-4b45-fd9b-fec4a625d13a"
      },
      "source": [
        "tw_filter_df.explain()"
      ],
      "execution_count": 51,
      "outputs": [
        {
          "output_type": "stream",
          "name": "stdout",
          "text": [
            "== Physical Plan ==\n",
            "*(1) Project [_c0#114, geo#115, text#116, user#117, location#118, entities#119, sentiment#120, country#121]\n",
            "+- *(1) Filter (isnotnull(location#118) && StartsWith(location#118, N))\n",
            "   +- *(1) FileScan csv [_c0#114,geo#115,text#116,user#117,location#118,entities#119,sentiment#120,country#121] Batched: false, Format: CSV, Location: InMemoryFileIndex[file:/tmp/twitter_data.csv], PartitionFilters: [], PushedFilters: [IsNotNull(location), StringStartsWith(location,N)], ReadSchema: struct<_c0:int,geo:string,text:string,user:string,location:string,entities:string,sentiment:strin...\n"
          ]
        }
      ]
    },
    {
      "cell_type": "code",
      "metadata": {
        "colab": {
          "base_uri": "https://localhost:8080/"
        },
        "id": "Og3i56jr0hri",
        "outputId": "404954f0-87fb-4ac8-f4d6-e8f00162e16f"
      },
      "source": [
        "twitter_df.first()"
      ],
      "execution_count": 52,
      "outputs": [
        {
          "output_type": "execute_result",
          "data": {
            "text/plain": [
              "Row(_c0=0, geo=None, text='What is God saying to us about #coronavirus ?', user='petodinice', location='Lagos', entities=\"[('about #', 'CARDINAL')]\", sentiment=\"{'neg': 0.0, 'neu': 0.769, 'pos': 0.231, 'compound': 0.2732}\", country='Nigeria')"
            ]
          },
          "metadata": {},
          "execution_count": 52
        }
      ]
    },
    {
      "cell_type": "code",
      "metadata": {
        "colab": {
          "base_uri": "https://localhost:8080/"
        },
        "id": "dP4MqN7t0wtq",
        "outputId": "2bedb997-b927-439c-96b8-5decb7bca7a2"
      },
      "source": [
        "twitter_df.take(5)"
      ],
      "execution_count": 54,
      "outputs": [
        {
          "output_type": "execute_result",
          "data": {
            "text/plain": [
              "[Row(_c0=0, geo=None, text='What is God saying to us about #coronavirus ?', user='petodinice', location='Lagos', entities=\"[('about #', 'CARDINAL')]\", sentiment=\"{'neg': 0.0, 'neu': 0.769, 'pos': 0.231, 'compound': 0.2732}\", country='Nigeria'),\n",
              " Row(_c0=1, geo=None, text='\"BREAKING: \"\"this is disappointing', user=' but i took the test\"\". Arsenal\\'s Mikel Arteta tests positive for #coronavirus', location='  -… \"', entities='JerryfranksonJF', sentiment='Abuja, Nigeria', country='\"[(\"\"Arsenal\\'s Mikel Arteta\"\"'),\n",
              " Row(_c0=2, geo=None, text=' #Coronavirus testing must be made free to the public if we are going to understand the scope of this crisis. Anything le…', user='cek422', location='Pennsylvania, USA', entities='[]', sentiment=\"{'neg': 0.173, 'neu': 0.71, 'pos': 0.117, 'compound': -0.3767}\", country='USA'),\n",
              " Row(_c0=3, geo=None, text=' Get ready for mass event crowd cancellations across the World starting this weekend: cricket in #Australia in empty st…', user='InfectiousDz', location='NYC', entities=\"[('World', 'ORG'), ('this weekend', 'DATE'), '']\", sentiment=\"{'neg': 0.085, 'neu': 0.798, 'pos': 0.117, 'compound': 0.1779}\", country='USA'),\n",
              " Row(_c0=4, geo=None, text=' The #coronavirus pandemic is revealing just how closely we are all bound together...[A thread] ', user='vic_gibson', location=None, entities=\"['']\", sentiment=\"{'neg': 0.0, 'neu': 1.0, 'pos': 0.0, 'compound': 0.0}\", country=None)]"
            ]
          },
          "metadata": {},
          "execution_count": 54
        }
      ]
    },
    {
      "cell_type": "code",
      "metadata": {
        "colab": {
          "base_uri": "https://localhost:8080/"
        },
        "id": "wxzWAWtk01zR",
        "outputId": "c4bc6ff6-5f0f-48df-bddc-1f26773d2b4b"
      },
      "source": [
        " x = spark.sparkContext.parallelize([1,4,8])\n",
        " y = x.flatMap(lambda x: (x, x*x))\n",
        " print(x.collect())\n",
        " print(y.collect())"
      ],
      "execution_count": 56,
      "outputs": [
        {
          "output_type": "stream",
          "name": "stdout",
          "text": [
            "[1, 4, 8]\n",
            "[1, 1, 4, 16, 8, 64]\n"
          ]
        }
      ]
    },
    {
      "cell_type": "code",
      "metadata": {
        "colab": {
          "base_uri": "https://localhost:8080/"
        },
        "id": "vXw7THGq3Mhy",
        "outputId": "88f85888-eabf-468a-cf6e-bb453bcd02e0"
      },
      "source": [
        " x = spark.sparkContext.parallelize([1,4,8])\n",
        " y = x.map(lambda x: (x, x*x))\n",
        " print(x.collect())\n",
        " print(y.collect())"
      ],
      "execution_count": 57,
      "outputs": [
        {
          "output_type": "stream",
          "name": "stdout",
          "text": [
            "[1, 4, 8]\n",
            "[(1, 1), (4, 16), (8, 64)]\n"
          ]
        }
      ]
    },
    {
      "cell_type": "code",
      "metadata": {
        "colab": {
          "base_uri": "https://localhost:8080/"
        },
        "id": "Ece8mnSS3XYR",
        "outputId": "4cb4011a-a36e-4675-dca3-016b63fcf4ad"
      },
      "source": [
        "x"
      ],
      "execution_count": 58,
      "outputs": [
        {
          "output_type": "execute_result",
          "data": {
            "text/plain": [
              "ParallelCollectionRDD[98] at parallelize at PythonRDD.scala:195"
            ]
          },
          "metadata": {},
          "execution_count": 58
        }
      ]
    },
    {
      "cell_type": "code",
      "metadata": {
        "colab": {
          "base_uri": "https://localhost:8080/"
        },
        "id": "7j1IXWgc3m-y",
        "outputId": "f4da41db-91ab-43b3-8e2a-848e4ab226f4"
      },
      "source": [
        "twitter_df.select(\"text\").show()"
      ],
      "execution_count": 59,
      "outputs": [
        {
          "output_type": "stream",
          "name": "stdout",
          "text": [
            "+--------------------+\n",
            "|                text|\n",
            "+--------------------+\n",
            "|What is God sayin...|\n",
            "|\"BREAKING: \"\"this...|\n",
            "| #Coronavirus tes...|\n",
            "| Get ready for ma...|\n",
            "| The #coronavirus...|\n",
            "| COVID-19 update ...|\n",
            "| It’s painful to ...|\n",
            "| 📽️Friends, I wi...|\n",
            "| Questions about ...|\n",
            "|How they’re deali...|\n",
            "| BREAKING: Democr...|\n",
            "| “If we close dow...|\n",
            "| I pity the poor ...|\n",
            "| We’re the heck w...|\n",
            "| I don't think sh...|\n",
            "| Well written, so...|\n",
            "| 1/2 CDC Director...|\n",
            "| In all seriousne...|\n",
            "| Wash your hands....|\n",
            "| #CoronaVirusCana...|\n",
            "+--------------------+\n",
            "only showing top 20 rows\n",
            "\n"
          ]
        }
      ]
    },
    {
      "cell_type": "code",
      "metadata": {
        "colab": {
          "base_uri": "https://localhost:8080/"
        },
        "id": "peXTOp_o3sYB",
        "outputId": "495a52f6-5f15-49a6-be06-00b6abba808b"
      },
      "source": [
        "twitter_df.select(\"text\", \"user\").show()"
      ],
      "execution_count": 60,
      "outputs": [
        {
          "output_type": "stream",
          "name": "stdout",
          "text": [
            "+--------------------+--------------------+\n",
            "|                text|                user|\n",
            "+--------------------+--------------------+\n",
            "|What is God sayin...|          petodinice|\n",
            "|\"BREAKING: \"\"this...| but i took the t...|\n",
            "| #Coronavirus tes...|              cek422|\n",
            "| Get ready for ma...|        InfectiousDz|\n",
            "| The #coronavirus...|          vic_gibson|\n",
            "| COVID-19 update ...|      StewartNgilana|\n",
            "| It’s painful to ...|           BWheatnyc|\n",
            "| 📽️Friends, I wi...|             LorseaR|\n",
            "| Questions about ...|         straightj23|\n",
            "|How they’re deali...|       _______coolio|\n",
            "| BREAKING: Democr...|      champagneaylin|\n",
            "| “If we close dow...|       YorkLawLondon|\n",
            "| I pity the poor ...|      BeesonMargaret|\n",
            "| We’re the heck w...|      harrytiffanyiv|\n",
            "| I don't think sh...|         grammyheath|\n",
            "| Well written, so...|      barbara_ellena|\n",
            "| 1/2 CDC Director...|               fatal|\n",
            "| In all seriousne...|          pwjkmiller|\n",
            "| Wash your hands....|        Mrrandy123RP|\n",
            "| #CoronaVirusCana...|           aliensky0|\n",
            "+--------------------+--------------------+\n",
            "only showing top 20 rows\n",
            "\n"
          ]
        }
      ]
    },
    {
      "cell_type": "code",
      "metadata": {
        "colab": {
          "base_uri": "https://localhost:8080/"
        },
        "id": "PbZOvAil3xHy",
        "outputId": "4ccd2d27-35b6-432e-e614-10c416dfffb6"
      },
      "source": [
        "twitter_df.rdd.map(lambda line: line.text.split(\" \")).take(5) # similar to tokenizing"
      ],
      "execution_count": 62,
      "outputs": [
        {
          "output_type": "execute_result",
          "data": {
            "text/plain": [
              "[['What', 'is', 'God', 'saying', 'to', 'us', 'about', '#coronavirus', '?'],\n",
              " ['\"BREAKING:', '\"\"this', 'is', 'disappointing'],\n",
              " ['',\n",
              "  '#Coronavirus',\n",
              "  'testing',\n",
              "  'must',\n",
              "  'be',\n",
              "  'made',\n",
              "  'free',\n",
              "  'to',\n",
              "  'the',\n",
              "  'public',\n",
              "  'if',\n",
              "  'we',\n",
              "  'are',\n",
              "  'going',\n",
              "  'to',\n",
              "  'understand',\n",
              "  'the',\n",
              "  'scope',\n",
              "  'of',\n",
              "  'this',\n",
              "  'crisis.',\n",
              "  'Anything',\n",
              "  'le…'],\n",
              " ['',\n",
              "  'Get',\n",
              "  'ready',\n",
              "  'for',\n",
              "  'mass',\n",
              "  'event',\n",
              "  'crowd',\n",
              "  'cancellations',\n",
              "  'across',\n",
              "  'the',\n",
              "  'World',\n",
              "  'starting',\n",
              "  'this',\n",
              "  'weekend:',\n",
              "  'cricket',\n",
              "  'in',\n",
              "  '#Australia',\n",
              "  'in',\n",
              "  'empty',\n",
              "  'st…'],\n",
              " ['',\n",
              "  'The',\n",
              "  '#coronavirus',\n",
              "  'pandemic',\n",
              "  'is',\n",
              "  'revealing',\n",
              "  'just',\n",
              "  'how',\n",
              "  'closely',\n",
              "  'we',\n",
              "  'are',\n",
              "  'all',\n",
              "  'bound',\n",
              "  'together...[A',\n",
              "  'thread]',\n",
              "  '']]"
            ]
          },
          "metadata": {},
          "execution_count": 62
        }
      ]
    },
    {
      "cell_type": "code",
      "metadata": {
        "colab": {
          "base_uri": "https://localhost:8080/"
        },
        "id": "PkhSVlYQB3Hq",
        "outputId": "0f105a55-1e8a-444c-b7c1-695164e937ee"
      },
      "source": [
        "twitter_df.rdd.flatMap(lambda line: line.text.split(\" \")).take(100)"
      ],
      "execution_count": 65,
      "outputs": [
        {
          "output_type": "execute_result",
          "data": {
            "text/plain": [
              "['What',\n",
              " 'is',\n",
              " 'God',\n",
              " 'saying',\n",
              " 'to',\n",
              " 'us',\n",
              " 'about',\n",
              " '#coronavirus',\n",
              " '?',\n",
              " '\"BREAKING:',\n",
              " '\"\"this',\n",
              " 'is',\n",
              " 'disappointing',\n",
              " '',\n",
              " '#Coronavirus',\n",
              " 'testing',\n",
              " 'must',\n",
              " 'be',\n",
              " 'made',\n",
              " 'free',\n",
              " 'to',\n",
              " 'the',\n",
              " 'public',\n",
              " 'if',\n",
              " 'we',\n",
              " 'are',\n",
              " 'going',\n",
              " 'to',\n",
              " 'understand',\n",
              " 'the',\n",
              " 'scope',\n",
              " 'of',\n",
              " 'this',\n",
              " 'crisis.',\n",
              " 'Anything',\n",
              " 'le…',\n",
              " '',\n",
              " 'Get',\n",
              " 'ready',\n",
              " 'for',\n",
              " 'mass',\n",
              " 'event',\n",
              " 'crowd',\n",
              " 'cancellations',\n",
              " 'across',\n",
              " 'the',\n",
              " 'World',\n",
              " 'starting',\n",
              " 'this',\n",
              " 'weekend:',\n",
              " 'cricket',\n",
              " 'in',\n",
              " '#Australia',\n",
              " 'in',\n",
              " 'empty',\n",
              " 'st…',\n",
              " '',\n",
              " 'The',\n",
              " '#coronavirus',\n",
              " 'pandemic',\n",
              " 'is',\n",
              " 'revealing',\n",
              " 'just',\n",
              " 'how',\n",
              " 'closely',\n",
              " 'we',\n",
              " 'are',\n",
              " 'all',\n",
              " 'bound',\n",
              " 'together...[A',\n",
              " 'thread]',\n",
              " '',\n",
              " '',\n",
              " 'COVID-19',\n",
              " 'update',\n",
              " 'as',\n",
              " 'of',\n",
              " 'this',\n",
              " 'morning:1.',\n",
              " 'Death',\n",
              " 'toll',\n",
              " 'in',\n",
              " 'Italy',\n",
              " 'passes',\n",
              " '1,0002.',\n",
              " \"Arsenal's\",\n",
              " 'head',\n",
              " 'coach',\n",
              " 'Arteta',\n",
              " 'tests',\n",
              " 'positive3.',\n",
              " 'US…',\n",
              " '',\n",
              " 'It’s',\n",
              " 'painful',\n",
              " 'to',\n",
              " 'say,',\n",
              " 'but',\n",
              " 'as',\n",
              " 'an']"
            ]
          },
          "metadata": {},
          "execution_count": 65
        }
      ]
    },
    {
      "cell_type": "code",
      "metadata": {
        "colab": {
          "base_uri": "https://localhost:8080/"
        },
        "id": "wncBJL4GDo3k",
        "outputId": "76959ff4-9a5a-45b7-c357-0a6acd26722d"
      },
      "source": [
        "corona_df.show()"
      ],
      "execution_count": 66,
      "outputs": [
        {
          "output_type": "stream",
          "name": "stdout",
          "text": [
            "+---+----------------+--------------------+--------+---------+-------------------+---------+-----+---------+--------------------+----+\n",
            "|_c0|           State|             Country|     Lat|     Long|               Date|Confirmed|Death|Recovered|       state_cleaned|City|\n",
            "+---+----------------+--------------------+--------+---------+-------------------+---------+-----+---------+--------------------+----+\n",
            "|  0|            null|            Thailand|    15.0|    101.0|2020-01-22 00:00:00|        2|    0|        0|             Bangkok|null|\n",
            "|  1|            null|               Japan|    36.0|    138.0|2020-01-22 00:00:00|        2|    0|        0|             Hiraide|null|\n",
            "|  2|            null|           Singapore|  1.2833| 103.8333|2020-01-22 00:00:00|        0|    0|        0|           Singapore|null|\n",
            "|  3|            null|               Nepal| 28.1667|    84.25|2020-01-22 00:00:00|        0|    0|        0|           Kathmandu|null|\n",
            "|  4|            null|            Malaysia|     2.5|    112.5|2020-01-22 00:00:00|        0|    0|        0|             Sarawak|null|\n",
            "|  5|British Columbia|              Canada| 49.2827|-123.1207|2020-01-22 00:00:00|        0|    0|        0|    British Columbia|null|\n",
            "|  6| New South Wales|           Australia|-33.8688| 151.2093|2020-01-22 00:00:00|        0|    0|        0|     New South Wales|null|\n",
            "|  7|        Victoria|           Australia|-37.8136| 144.9631|2020-01-22 00:00:00|        0|    0|        0|            Victoria|null|\n",
            "|  8|      Queensland|           Australia|-28.0167|    153.4|2020-01-22 00:00:00|        0|    0|        0|          Queensland|null|\n",
            "|  9|            null|            Cambodia|   11.55| 104.9167|2020-01-22 00:00:00|        0|    0|        0|          Phnom Penh|null|\n",
            "| 10|            null|           Sri Lanka|     7.0|     81.0|2020-01-22 00:00:00|        0|    0|        0|Sri Jayawardenapu...|null|\n",
            "| 11|            null|             Germany|    51.0|      9.0|2020-01-22 00:00:00|        0|    0|        0|              Berlin|null|\n",
            "| 12|            null|             Finland|    64.0|     26.0|2020-01-22 00:00:00|        0|    0|        0|            Helsinki|null|\n",
            "| 13|            null|United Arab Emirates|    24.0|     54.0|2020-01-22 00:00:00|        0|    0|        0|           Abu Dhabi|null|\n",
            "| 14|            null|         Philippines|    13.0|    122.0|2020-01-22 00:00:00|        0|    0|        0|              Manila|null|\n",
            "| 15|            null|               India|    21.0|     78.0|2020-01-22 00:00:00|        0|    0|        0|           New Delhi|null|\n",
            "| 16|            null|               Italy|    43.0|     12.0|2020-01-22 00:00:00|        0|    0|        0|                Rome|null|\n",
            "| 17|            null|              Sweden|    63.0|     16.0|2020-01-22 00:00:00|        0|    0|        0|           Stockholm|null|\n",
            "| 18|            null|               Spain|    40.0|     -4.0|2020-01-22 00:00:00|        0|    0|        0|              Toledo|null|\n",
            "| 19| South Australia|           Australia|-34.9285| 138.6007|2020-01-22 00:00:00|        0|    0|        0|     South Australia|null|\n",
            "+---+----------------+--------------------+--------+---------+-------------------+---------+-----+---------+--------------------+----+\n",
            "only showing top 20 rows\n",
            "\n"
          ]
        }
      ]
    },
    {
      "cell_type": "code",
      "metadata": {
        "colab": {
          "base_uri": "https://localhost:8080/"
        },
        "id": "omncQaviD0rL",
        "outputId": "6ee17bd3-e452-4bbe-abc8-4c01594513b9"
      },
      "source": [
        "corona_df.filter(\"Country='US'\").show()"
      ],
      "execution_count": 68,
      "outputs": [
        {
          "output_type": "stream",
          "name": "stdout",
          "text": [
            "+---+----------------+-------+------------------+---------+-------------------+---------+-----+---------+----------------+----------------+\n",
            "|_c0|           State|Country|               Lat|     Long|               Date|Confirmed|Death|Recovered|   state_cleaned|            City|\n",
            "+---+----------------+-------+------------------+---------+-------------------+---------+-----+---------+----------------+----------------+\n",
            "| 98|      Washington|     US|           47.4009|-121.4905|2020-01-22 00:00:00|        0|    0|        0|      Washington|      Washington|\n",
            "| 99|        New York|     US|           42.1657| -74.9481|2020-01-22 00:00:00|        0|    0|        0|        New York|        New York|\n",
            "|100|      California|     US|           36.1162|-119.6816|2020-01-22 00:00:00|        0|    0|        0|      California|      California|\n",
            "|101|   Massachusetts|     US|           42.2302| -71.5301|2020-01-22 00:00:00|        0|    0|        0|   Massachusetts|   Massachusetts|\n",
            "|102|Diamond Princess|     US|           35.4437|  139.638|2020-01-22 00:00:00|        0|    0|        0|Diamond Princess|Diamond Princess|\n",
            "|103|  Grand Princess|     US|           37.6489|-122.6655|2020-01-22 00:00:00|        0|    0|        0|  Grand Princess|  Grand Princess|\n",
            "|104|         Georgia|     US|           33.0406| -83.6431|2020-01-22 00:00:00|        0|    0|        0|         Georgia|         Georgia|\n",
            "|105|        Colorado|     US|           39.0598|-105.3111|2020-01-22 00:00:00|        0|    0|        0|        Colorado|        Colorado|\n",
            "|106|         Florida|     US|           27.7663| -81.6868|2020-01-22 00:00:00|        0|    0|        0|         Florida|         Florida|\n",
            "|107|      New Jersey|     US|           40.2989|  -74.521|2020-01-22 00:00:00|        0|    0|        0|      New Jersey|      New Jersey|\n",
            "|108|          Oregon|     US|44.571999999999996|-122.0709|2020-01-22 00:00:00|        0|    0|        0|          Oregon|          Oregon|\n",
            "|109|           Texas|     US|           31.0545| -97.5635|2020-01-22 00:00:00|        0|    0|        0|           Texas|           Texas|\n",
            "|110|        Illinois|     US|           40.3495| -88.9861|2020-01-22 00:00:00|        0|    0|        0|        Illinois|        Illinois|\n",
            "|111|    Pennsylvania|     US|           40.5908| -77.2098|2020-01-22 00:00:00|        0|    0|        0|    Pennsylvania|    Pennsylvania|\n",
            "|112|            Iowa|     US|           42.0115| -93.2105|2020-01-22 00:00:00|        0|    0|        0|            Iowa|            Iowa|\n",
            "|113|        Maryland|     US|           39.0639| -76.8021|2020-01-22 00:00:00|        0|    0|        0|        Maryland|        Maryland|\n",
            "|114|  North Carolina|     US|           35.6301| -79.8064|2020-01-22 00:00:00|        0|    0|        0|  North Carolina|  North Carolina|\n",
            "|115|  South Carolina|     US|           33.8569|  -80.945|2020-01-22 00:00:00|        0|    0|        0|  South Carolina|  South Carolina|\n",
            "|116|       Tennessee|     US|           35.7478| -86.6923|2020-01-22 00:00:00|        0|    0|        0|       Tennessee|       Tennessee|\n",
            "|117|        Virginia|     US|           37.7693|   -78.17|2020-01-22 00:00:00|        0|    0|        0|        Virginia|        Virginia|\n",
            "+---+----------------+-------+------------------+---------+-------------------+---------+-----+---------+----------------+----------------+\n",
            "only showing top 20 rows\n",
            "\n"
          ]
        }
      ]
    },
    {
      "cell_type": "code",
      "metadata": {
        "colab": {
          "base_uri": "https://localhost:8080/"
        },
        "id": "93clk9c0D6Ak",
        "outputId": "67b66ed9-3b5b-4af0-915d-8191aa47860a"
      },
      "source": [
        "corona_df.filter(\"Country='US'\").sort(col(\"Date\"), ascending=False).show()"
      ],
      "execution_count": 69,
      "outputs": [
        {
          "output_type": "stream",
          "name": "stdout",
          "text": [
            "+-----+----------------+-------+------------------+---------+-------------------+---------+-----+---------+----------------+----------------+\n",
            "|  _c0|           State|Country|               Lat|     Long|               Date|Confirmed|Death|Recovered|   state_cleaned|            City|\n",
            "+-----+----------------+-------+------------------+---------+-------------------+---------+-----+---------+----------------+----------------+\n",
            "|27764|      Washington|     US|           47.4009|-121.4905|2020-03-20 00:00:00|     1524|   83|        0|      Washington|      Washington|\n",
            "|27784|         Arizona|     US|           33.7298|-111.4312|2020-03-20 00:00:00|       78|    0|        0|         Arizona|         Arizona|\n",
            "|27765|        New York|     US|           42.1657| -74.9481|2020-03-20 00:00:00|     8310|   42|        0|        New York|        New York|\n",
            "|27766|      California|     US|           36.1162|-119.6816|2020-03-20 00:00:00|     1177|   23|        0|      California|      California|\n",
            "|27767|   Massachusetts|     US|           42.2302| -71.5301|2020-03-20 00:00:00|      413|    1|        0|   Massachusetts|   Massachusetts|\n",
            "|27768|Diamond Princess|     US|           35.4437|  139.638|2020-03-20 00:00:00|       49|    0|        0|Diamond Princess|Diamond Princess|\n",
            "|27769|  Grand Princess|     US|           37.6489|-122.6655|2020-03-20 00:00:00|       23|    0|        0|  Grand Princess|  Grand Princess|\n",
            "|27770|         Georgia|     US|           33.0406| -83.6431|2020-03-20 00:00:00|      420|   13|        0|         Georgia|         Georgia|\n",
            "|27771|        Colorado|     US|           39.0598|-105.3111|2020-03-20 00:00:00|      363|    4|        0|        Colorado|        Colorado|\n",
            "|27772|         Florida|     US|           27.7663| -81.6868|2020-03-20 00:00:00|      563|   10|        0|         Florida|         Florida|\n",
            "|27773|      New Jersey|     US|           40.2989|  -74.521|2020-03-20 00:00:00|      890|   11|        0|      New Jersey|      New Jersey|\n",
            "|27774|          Oregon|     US|44.571999999999996|-122.0709|2020-03-20 00:00:00|      114|    3|        0|          Oregon|          Oregon|\n",
            "|27775|           Texas|     US|           31.0545| -97.5635|2020-03-20 00:00:00|      394|    5|        0|           Texas|           Texas|\n",
            "|27776|        Illinois|     US|           40.3495| -88.9861|2020-03-20 00:00:00|      585|    5|        0|        Illinois|        Illinois|\n",
            "|27777|    Pennsylvania|     US|           40.5908| -77.2098|2020-03-20 00:00:00|      303|    1|        0|    Pennsylvania|    Pennsylvania|\n",
            "|27778|            Iowa|     US|           42.0115| -93.2105|2020-03-20 00:00:00|       45|    0|        0|            Iowa|            Iowa|\n",
            "|27779|        Maryland|     US|           39.0639| -76.8021|2020-03-20 00:00:00|      149|    1|        0|        Maryland|        Maryland|\n",
            "|27780|  North Carolina|     US|           35.6301| -79.8064|2020-03-20 00:00:00|      172|    0|        0|  North Carolina|  North Carolina|\n",
            "|27781|  South Carolina|     US|           33.8569|  -80.945|2020-03-20 00:00:00|      126|    1|        0|  South Carolina|  South Carolina|\n",
            "|27782|       Tennessee|     US|           35.7478| -86.6923|2020-03-20 00:00:00|      233|    0|        0|       Tennessee|       Tennessee|\n",
            "+-----+----------------+-------+------------------+---------+-------------------+---------+-----+---------+----------------+----------------+\n",
            "only showing top 20 rows\n",
            "\n"
          ]
        }
      ]
    },
    {
      "cell_type": "code",
      "metadata": {
        "colab": {
          "base_uri": "https://localhost:8080/"
        },
        "id": "q2Fl55USFEcF",
        "outputId": "e79ff322-f2cc-4bab-8cee-51cd33498ad7"
      },
      "source": [
        "corona_df.filter(\"Country='US'\").sortWithinPartitions([col(\"Date\"), col(\"Confirmed\")], ascending = False).show()"
      ],
      "execution_count": 70,
      "outputs": [
        {
          "output_type": "stream",
          "name": "stdout",
          "text": [
            "+-----+--------------+-------+-------+---------+-------------------+---------+-----+---------+--------------+--------------+\n",
            "|  _c0|         State|Country|    Lat|     Long|               Date|Confirmed|Death|Recovered| state_cleaned|          City|\n",
            "+-----+--------------+-------+-------+---------+-------------------+---------+-----+---------+--------------+--------------+\n",
            "|27765|      New York|     US|42.1657| -74.9481|2020-03-20 00:00:00|     8310|   42|        0|      New York|      New York|\n",
            "|27764|    Washington|     US|47.4009|-121.4905|2020-03-20 00:00:00|     1524|   83|        0|    Washington|    Washington|\n",
            "|27766|    California|     US|36.1162|-119.6816|2020-03-20 00:00:00|     1177|   23|        0|    California|    California|\n",
            "|27773|    New Jersey|     US|40.2989|  -74.521|2020-03-20 00:00:00|      890|   11|        0|    New Jersey|    New Jersey|\n",
            "|27776|      Illinois|     US|40.3495| -88.9861|2020-03-20 00:00:00|      585|    5|        0|      Illinois|      Illinois|\n",
            "|27772|       Florida|     US|27.7663| -81.6868|2020-03-20 00:00:00|      563|   10|        0|       Florida|       Florida|\n",
            "|27812|      Michigan|     US|43.3266| -84.5361|2020-03-20 00:00:00|      552|    3|        0|      Michigan|      Michigan|\n",
            "|27804|     Louisiana|     US|31.1695| -91.8678|2020-03-20 00:00:00|      538|   14|        0|     Louisiana|     Louisiana|\n",
            "|27770|       Georgia|     US|33.0406| -83.6431|2020-03-20 00:00:00|      420|   13|        0|       Georgia|       Georgia|\n",
            "|27767| Massachusetts|     US|42.2302| -71.5301|2020-03-20 00:00:00|      413|    1|        0| Massachusetts| Massachusetts|\n",
            "|27775|         Texas|     US|31.0545| -97.5635|2020-03-20 00:00:00|      394|    5|        0|         Texas|         Texas|\n",
            "|27771|      Colorado|     US|39.0598|-105.3111|2020-03-20 00:00:00|      363|    4|        0|      Colorado|      Colorado|\n",
            "|27777|  Pennsylvania|     US|40.5908| -77.2098|2020-03-20 00:00:00|      303|    1|        0|  Pennsylvania|  Pennsylvania|\n",
            "|27782|     Tennessee|     US|35.7478| -86.6923|2020-03-20 00:00:00|      233|    0|        0|     Tennessee|     Tennessee|\n",
            "|27794|     Wisconsin|     US|44.2685| -89.6165|2020-03-20 00:00:00|      207|    3|        0|     Wisconsin|     Wisconsin|\n",
            "|27795|   Connecticut|     US|41.5978| -72.7554|2020-03-20 00:00:00|      194|    3|        0|   Connecticut|   Connecticut|\n",
            "|27792|          Ohio|     US|40.3888| -82.7649|2020-03-20 00:00:00|      173|    2|        0|          Ohio|          Ohio|\n",
            "|27780|North Carolina|     US|35.6301| -79.8064|2020-03-20 00:00:00|      172|    0|        0|North Carolina|North Carolina|\n",
            "|27779|      Maryland|     US|39.0639| -76.8021|2020-03-20 00:00:00|      149|    1|        0|      Maryland|      Maryland|\n",
            "|27781|South Carolina|     US|33.8569|  -80.945|2020-03-20 00:00:00|      126|    1|        0|South Carolina|South Carolina|\n",
            "+-----+--------------+-------+-------+---------+-------------------+---------+-----+---------+--------------+--------------+\n",
            "only showing top 20 rows\n",
            "\n"
          ]
        }
      ]
    },
    {
      "cell_type": "code",
      "metadata": {
        "colab": {
          "base_uri": "https://localhost:8080/"
        },
        "id": "ZZc9En2WFi-Z",
        "outputId": "8a65e9e1-52ea-4042-a371-6169b8fcf49b"
      },
      "source": [
        "corona_df.describe().show()"
      ],
      "execution_count": 71,
      "outputs": [
        {
          "output_type": "stream",
          "name": "stdout",
          "text": [
            "+-------+-----------------+---------+-----------+------------------+------------------+------------------+------------------+------------------+-------------+-----------+\n",
            "|summary|              _c0|    State|    Country|               Lat|              Long|         Confirmed|             Death|         Recovered|state_cleaned|       City|\n",
            "+-------+-----------------+---------+-----------+------------------+------------------+------------------+------------------+------------------+-------------+-----------+\n",
            "|  count|            28143|    19116|      28143|             28143|             28143|             28143|             28143|             28143|        28143|      14573|\n",
            "|   mean|          14071.0|     null|       null|30.965553459118834|-34.57031257861667|161.88245744945456| 5.494368048893153| 60.17290267562094|         null|       null|\n",
            "| stddev|8124.328649186959|     null|       null|19.365472826597646| 80.78375872452575| 2519.847217725942|109.29475709869875|1346.6597829124426|         null|       null|\n",
            "|    min|                0|Adams, IN|Afghanistan|          -41.4545|         -157.8584|                 0|                 0|                 0|    Abu Dhabi|      Adams|\n",
            "|    max|            28142| Zhejiang|   Zimbabwe|           71.7069|           178.065|             67800|              4032|             58382|     erdészet|Yolo County|\n",
            "+-------+-----------------+---------+-----------+------------------+------------------+------------------+------------------+------------------+-------------+-----------+\n",
            "\n"
          ]
        }
      ]
    },
    {
      "cell_type": "code",
      "metadata": {
        "colab": {
          "base_uri": "https://localhost:8080/"
        },
        "id": "vu2lHlV1F-x2",
        "outputId": "2793d221-5c39-4656-eedc-0799fdf50784"
      },
      "source": [
        "corona_df.printSchema()"
      ],
      "execution_count": 72,
      "outputs": [
        {
          "output_type": "stream",
          "name": "stdout",
          "text": [
            "root\n",
            " |-- _c0: integer (nullable = true)\n",
            " |-- State: string (nullable = true)\n",
            " |-- Country: string (nullable = true)\n",
            " |-- Lat: double (nullable = true)\n",
            " |-- Long: double (nullable = true)\n",
            " |-- Date: timestamp (nullable = true)\n",
            " |-- Confirmed: integer (nullable = true)\n",
            " |-- Death: integer (nullable = true)\n",
            " |-- Recovered: integer (nullable = true)\n",
            " |-- state_cleaned: string (nullable = true)\n",
            " |-- City: string (nullable = true)\n",
            "\n"
          ]
        }
      ]
    },
    {
      "cell_type": "code",
      "metadata": {
        "colab": {
          "base_uri": "https://localhost:8080/"
        },
        "id": "hYgPz82YGbTV",
        "outputId": "14e37086-08f5-4845-96f3-1505911990c4"
      },
      "source": [
        "corona_df.filter('Confirmed>10000').sort(col('Confirmed')).show()"
      ],
      "execution_count": 73,
      "outputs": [
        {
          "output_type": "stream",
          "name": "stdout",
          "text": [
            "+-----+------+-------+-------+--------+-------------------+---------+-----+---------+-------------+----+\n",
            "|  _c0| State|Country|    Lat|    Long|               Date|Confirmed|Death|Recovered|state_cleaned|City|\n",
            "+-----+------+-------+-------+--------+-------------------+---------+-----+---------+-------------+----+\n",
            "|24005|  null|   Iran|   32.0|    53.0|2020-03-12 00:00:00|    10075|  429|     2959|       Tehran|null|\n",
            "|22912|  null|  Italy|   43.0|    12.0|2020-03-10 00:00:00|    10149|  631|      724|         Rome|null|\n",
            "|27346|France| France|46.2276|  2.2137|2020-03-19 00:00:00|    10871|  243|       12|       France|null|\n",
            "| 5401| Hubei|  China|30.9756|112.2707|2020-02-02 00:00:00|    11177|  350|      295|        Hubei|null|\n",
            "|24482|  null|   Iran|   32.0|    53.0|2020-03-13 00:00:00|    11364|  514|     2959|       Tehran|null|\n",
            "|26253|  null|  Spain|   40.0|    -4.0|2020-03-17 00:00:00|    11748|  533|     1028|       Toledo|null|\n",
            "|26723|  null|Germany|   51.0|     9.0|2020-03-18 00:00:00|    12327|   28|      105|       Berlin|null|\n",
            "|23866|  null|  Italy|   43.0|    12.0|2020-03-12 00:00:00|    12462|  827|     1045|         Rome|null|\n",
            "|23389|  null|  Italy|   43.0|    12.0|2020-03-11 00:00:00|    12462|  827|     1045|         Rome|null|\n",
            "|27823|France| France|46.2276|  2.2137|2020-03-20 00:00:00|    12612|  450|       12|       France|null|\n",
            "|24959|  null|   Iran|   32.0|    53.0|2020-03-14 00:00:00|    12729|  611|     2959|       Tehran|null|\n",
            "| 5878| Hubei|  China|30.9756|112.2707|2020-02-03 00:00:00|    13522|  414|      386|        Hubei|null|\n",
            "|26730|  null|  Spain|   40.0|    -4.0|2020-03-18 00:00:00|    13910|  623|     1081|       Toledo|null|\n",
            "|25436|  null|   Iran|   32.0|    53.0|2020-03-15 00:00:00|    13938|  724|     4590|       Tehran|null|\n",
            "|25913|  null|   Iran|   32.0|    53.0|2020-03-16 00:00:00|    14991|  853|     4590|       Tehran|null|\n",
            "|27200|  null|Germany|   51.0|     9.0|2020-03-19 00:00:00|    15320|   44|      113|       Berlin|null|\n",
            "|26390|  null|   Iran|   32.0|    53.0|2020-03-17 00:00:00|    16169|  988|     5389|       Tehran|null|\n",
            "| 6355| Hubei|  China|30.9756|112.2707|2020-02-04 00:00:00|    16678|  479|      522|        Hubei|null|\n",
            "|26867|  null|   Iran|   32.0|    53.0|2020-03-18 00:00:00|    17361| 1135|     5389|       Tehran|null|\n",
            "|24343|  null|  Italy|   43.0|    12.0|2020-03-13 00:00:00|    17660| 1266|     1439|         Rome|null|\n",
            "+-----+------+-------+-------+--------+-------------------+---------+-----+---------+-------------+----+\n",
            "only showing top 20 rows\n",
            "\n"
          ]
        }
      ]
    },
    {
      "cell_type": "code",
      "metadata": {
        "colab": {
          "base_uri": "https://localhost:8080/"
        },
        "id": "ojRjnR1sHDxd",
        "outputId": "bdc8441c-faa4-49c6-a57e-9966d920aad4"
      },
      "source": [
        "corona_df.filter('Confirmed>10000').approxQuantile('Confirmed',[0.25, 0.5, 0.75, 0.9, 0.95], 0.9)"
      ],
      "execution_count": 78,
      "outputs": [
        {
          "output_type": "execute_result",
          "data": {
            "text/plain": [
              "[10075.0, 10075.0, 10075.0, 10075.0, 67800.0]"
            ]
          },
          "metadata": {},
          "execution_count": 78
        }
      ]
    },
    {
      "cell_type": "code",
      "metadata": {
        "colab": {
          "base_uri": "https://localhost:8080/"
        },
        "id": "TstrU2OEHWau",
        "outputId": "f9d6a6c9-18c6-4cec-ca4b-a7d0326c8d5b"
      },
      "source": [
        "corona_df.agg({\"Date\":\"max\"}).collect()"
      ],
      "execution_count": 79,
      "outputs": [
        {
          "output_type": "execute_result",
          "data": {
            "text/plain": [
              "[Row(max(Date)=datetime.datetime(2020, 3, 20, 0, 0))]"
            ]
          },
          "metadata": {},
          "execution_count": 79
        }
      ]
    },
    {
      "cell_type": "code",
      "metadata": {
        "colab": {
          "base_uri": "https://localhost:8080/"
        },
        "id": "3j5QGWM_IrBv",
        "outputId": "4ce32575-d947-42a2-9f70-5726ae4c1163"
      },
      "source": [
        "corona_df.agg({\"Date\":\"max\", \"confirmed\":\"max\"}).collect() #get max date and max confirmed"
      ],
      "execution_count": 82,
      "outputs": [
        {
          "output_type": "execute_result",
          "data": {
            "text/plain": [
              "[Row(max(confirmed)=67800, max(Date)=datetime.datetime(2020, 3, 20, 0, 0))]"
            ]
          },
          "metadata": {},
          "execution_count": 82
        }
      ]
    },
    {
      "cell_type": "code",
      "metadata": {
        "colab": {
          "base_uri": "https://localhost:8080/"
        },
        "id": "ohmLzFvQJJyu",
        "outputId": "272864fa-6e29-4932-b8fe-8494ac5c5631"
      },
      "source": [
        "max_date = corona_df.agg({ \"Date\":\"max\"})\n",
        "max_date.show()"
      ],
      "execution_count": 84,
      "outputs": [
        {
          "output_type": "stream",
          "name": "stdout",
          "text": [
            "+-------------------+\n",
            "|          max(Date)|\n",
            "+-------------------+\n",
            "|2020-03-20 00:00:00|\n",
            "+-------------------+\n",
            "\n"
          ]
        }
      ]
    },
    {
      "cell_type": "code",
      "metadata": {
        "colab": {
          "base_uri": "https://localhost:8080/"
        },
        "id": "TlZdq8vZKtx3",
        "outputId": "307b94c9-d6de-477e-d6da-1f5b8054bb81"
      },
      "source": [
        "import pyspark.sql.functions as F\n",
        "corona_df.groupBy(\"Country\", \"State_cleaned\").agg(F.max(\"Date\")).show()"
      ],
      "execution_count": 87,
      "outputs": [
        {
          "output_type": "stream",
          "name": "stdout",
          "text": [
            "+--------------+--------------------+-------------------+\n",
            "|       Country|       State_cleaned|          max(Date)|\n",
            "+--------------+--------------------+-------------------+\n",
            "|      Cameroon|             Yaounde|2020-03-20 00:00:00|\n",
            "|        Cyprus|             Nicosia|2020-03-20 00:00:00|\n",
            "|            US|            Michigan|2020-03-20 00:00:00|\n",
            "|         China|             Qinghai|2020-03-20 00:00:00|\n",
            "|      Portugal|              Lisbon|2020-03-20 00:00:00|\n",
            "|            US|            Colorado|2020-03-20 00:00:00|\n",
            "|United Kingdom|      Cayman Islands|2020-03-20 00:00:00|\n",
            "|            US|            Missouri|2020-03-20 00:00:00|\n",
            "|         China|              Hainan|2020-03-20 00:00:00|\n",
            "|     Australia|Australian Capita...|2020-03-20 00:00:00|\n",
            "|            US|                Guam|2020-03-20 00:00:00|\n",
            "|        France|             Reunion|2020-03-20 00:00:00|\n",
            "|      Colombia|        Cundinamarca|2020-03-20 00:00:00|\n",
            "|          Cuba|              Havana|2020-03-20 00:00:00|\n",
            "|     Mauritius|          Port Louis|2020-03-20 00:00:00|\n",
            "|       Ukraine|                Kiev|2020-03-20 00:00:00|\n",
            "|   Switzerland|                Bern|2020-03-20 00:00:00|\n",
            "|         Benin|          Porto-Novo|2020-03-20 00:00:00|\n",
            "|         Malta|               Mgarr|2020-03-20 00:00:00|\n",
            "|United Kingdom|         Isle of Man|2020-03-20 00:00:00|\n",
            "+--------------+--------------------+-------------------+\n",
            "only showing top 20 rows\n",
            "\n"
          ]
        }
      ]
    },
    {
      "cell_type": "code",
      "metadata": {
        "colab": {
          "base_uri": "https://localhost:8080/"
        },
        "id": "X7uhiqEyLPeY",
        "outputId": "27ca7882-666f-4a77-889a-ab6bd8a28c79"
      },
      "source": [
        "corona_df.join(corona_df.groupBy(\"Country\", \"State_cleaned\").agg(F.max(\"Date\").alias(\"Date\")), on=['Country', 'State_cleaned', 'Date'], how='inner').show()"
      ],
      "execution_count": 89,
      "outputs": [
        {
          "output_type": "stream",
          "name": "stdout",
          "text": [
            "+--------------------+--------------------+-------------------+-----+----------------+--------+---------+---------+-----+---------+----+\n",
            "|             Country|       state_cleaned|               Date|  _c0|           State|     Lat|     Long|Confirmed|Death|Recovered|City|\n",
            "+--------------------+--------------------+-------------------+-----+----------------+--------+---------+---------+-----+---------+----+\n",
            "|            Thailand|             Bangkok|2020-03-20 00:00:00|27666|            null|    15.0|    101.0|      322|    1|       42|null|\n",
            "|               Japan|             Hiraide|2020-03-20 00:00:00|27667|            null|    36.0|    138.0|      963|   33|      191|null|\n",
            "|           Singapore|           Singapore|2020-03-20 00:00:00|27668|            null|  1.2833| 103.8333|      385|    0|      124|null|\n",
            "|               Nepal|           Kathmandu|2020-03-20 00:00:00|27669|            null| 28.1667|    84.25|        1|    0|        1|null|\n",
            "|            Malaysia|             Sarawak|2020-03-20 00:00:00|27670|            null|     2.5|    112.5|     1030|    3|       87|null|\n",
            "|              Canada|    British Columbia|2020-03-20 00:00:00|27671|British Columbia| 49.2827|-123.1207|      271|    8|        4|null|\n",
            "|           Australia|     New South Wales|2020-03-20 00:00:00|27672| New South Wales|-33.8688| 151.2093|      353|    6|        4|null|\n",
            "|           Australia|            Victoria|2020-03-20 00:00:00|27673|        Victoria|-37.8136| 144.9631|      121|    0|        8|null|\n",
            "|           Australia|          Queensland|2020-03-20 00:00:00|27674|      Queensland|-28.0167|    153.4|      184|    0|        8|null|\n",
            "|            Cambodia|          Phnom Penh|2020-03-20 00:00:00|27675|            null|   11.55| 104.9167|       51|    0|        1|null|\n",
            "|           Sri Lanka|Sri Jayawardenapu...|2020-03-20 00:00:00|27676|            null|     7.0|     81.0|       73|    0|        3|null|\n",
            "|             Germany|              Berlin|2020-03-20 00:00:00|27677|            null|    51.0|      9.0|    19848|   67|      180|null|\n",
            "|             Finland|            Helsinki|2020-03-20 00:00:00|27678|            null|    64.0|     26.0|      450|    0|       10|null|\n",
            "|United Arab Emirates|           Abu Dhabi|2020-03-20 00:00:00|27679|            null|    24.0|     54.0|      140|    2|       31|null|\n",
            "|         Philippines|              Manila|2020-03-20 00:00:00|27680|            null|    13.0|    122.0|      230|   18|        8|null|\n",
            "|               India|           New Delhi|2020-03-20 00:00:00|27681|            null|    21.0|     78.0|      244|    5|       20|null|\n",
            "|               Italy|                Rome|2020-03-20 00:00:00|27682|            null|    43.0|     12.0|    47021| 4032|     4440|null|\n",
            "|              Sweden|           Stockholm|2020-03-20 00:00:00|27683|            null|    63.0|     16.0|     1639|   16|       16|null|\n",
            "|               Spain|              Toledo|2020-03-20 00:00:00|27684|            null|    40.0|     -4.0|    20410| 1043|     1588|null|\n",
            "|           Australia|     South Australia|2020-03-20 00:00:00|27685| South Australia|-34.9285| 138.6007|       50|    0|        3|null|\n",
            "+--------------------+--------------------+-------------------+-----+----------------+--------+---------+---------+-----+---------+----+\n",
            "only showing top 20 rows\n",
            "\n"
          ]
        }
      ]
    },
    {
      "cell_type": "code",
      "metadata": {
        "colab": {
          "base_uri": "https://localhost:8080/"
        },
        "id": "1sinDzTDMV5h",
        "outputId": "452c4a52-5922-49a4-e1ad-84252d41ad27"
      },
      "source": [
        "corona_df.join(corona_df.groupBy(\"Country\", \"State_cleaned\").agg(F.max(\"Date\").alias(\"Date\")), on=['Country', 'State_cleaned', 'Date'], how='inner').sort(\"Confirmed\", ascending=False).show()"
      ],
      "execution_count": 91,
      "outputs": [
        {
          "output_type": "stream",
          "name": "stdout",
          "text": [
            "+--------------+----------------+-------------------+-----+--------------+-------+-------------------+---------+-----+---------+----------+\n",
            "|       Country|   state_cleaned|               Date|  _c0|         State|    Lat|               Long|Confirmed|Death|Recovered|      City|\n",
            "+--------------+----------------+-------------------+-----+--------------+-------+-------------------+---------+-----+---------+----------+\n",
            "|         China|           Hubei|2020-03-20 00:00:00|27820|         Hubei|30.9756|           112.2707|    67800| 3133|    58382|      null|\n",
            "|         Italy|            Rome|2020-03-20 00:00:00|27682|          null|   43.0|               12.0|    47021| 4032|     4440|      null|\n",
            "|         Spain|          Toledo|2020-03-20 00:00:00|27684|          null|   40.0|               -4.0|    20410| 1043|     1588|      null|\n",
            "|       Germany|          Berlin|2020-03-20 00:00:00|27677|          null|   51.0|                9.0|    19848|   67|      180|      null|\n",
            "|          Iran|          Tehran|2020-03-20 00:00:00|27821|          null|   32.0|               53.0|    19644| 1433|     6745|      null|\n",
            "|        France|          France|2020-03-20 00:00:00|27823|        France|46.2276|             2.2137|    12612|  450|       12|      null|\n",
            "|  Korea, South|Gyeongsangbuk-do|2020-03-20 00:00:00|27822|          null|   36.0|              128.0|     8652|   94|     1540|      null|\n",
            "|            US|        New York|2020-03-20 00:00:00|27765|      New York|42.1657|           -74.9481|     8310|   42|        0|  New York|\n",
            "|   Switzerland|            Bern|2020-03-20 00:00:00|27697|          null|46.8182|             8.2275|     5294|   54|       15|      null|\n",
            "|United Kingdom|  United Kingdom|2020-03-20 00:00:00|28069|United Kingdom|55.3781|-3.4360000000000004|     3983|  177|       65|      null|\n",
            "|   Netherlands|     Netherlands|2020-03-20 00:00:00|28106|   Netherlands|52.1326|             5.2913|     2994|  106|        2|      null|\n",
            "|       Austria|          Vienna|2020-03-20 00:00:00|27698|          null|47.5162|            14.5501|     2388|    6|        9|      null|\n",
            "|       Belgium|        Brussels|2020-03-20 00:00:00|27686|          null|50.8333|                4.0|     2257|   37|        1|      null|\n",
            "|        Norway|             Hol|2020-03-20 00:00:00|27705|          null| 60.472|             8.4689|     1914|    7|        1|      null|\n",
            "|        Sweden|       Stockholm|2020-03-20 00:00:00|27683|          null|   63.0|               16.0|     1639|   16|       16|      null|\n",
            "|            US|      Washington|2020-03-20 00:00:00|27764|    Washington|47.4009|          -121.4905|     1524|   83|        0|Washington|\n",
            "|         China|       Guangdong|2020-03-20 00:00:00|27824|     Guangdong|23.3417|           113.4244|     1395|    8|     1323|      null|\n",
            "|         China|           Henan|2020-03-20 00:00:00|27825|         Henan| 33.882| 113.61399999999999|     1273|   22|     1250|      null|\n",
            "|       Denmark|         Denmark|2020-03-20 00:00:00|27836|       Denmark|56.2639|             9.5018|     1255|    9|        1|      null|\n",
            "|         China|        Zhejiang|2020-03-20 00:00:00|27826|      Zhejiang|29.1832|           120.0934|     1234|    1|     1219|      null|\n",
            "+--------------+----------------+-------------------+-----+--------------+-------+-------------------+---------+-----+---------+----------+\n",
            "only showing top 20 rows\n",
            "\n"
          ]
        }
      ]
    },
    {
      "cell_type": "code",
      "metadata": {
        "colab": {
          "base_uri": "https://localhost:8080/"
        },
        "id": "mS2JLfCcMy8Z",
        "outputId": "e99a6747-987a-4851-b827-b5553ecdf856"
      },
      "source": [
        "from pyspark.sql.functions import row_number\n",
        "from pyspark.sql.window import Window\n",
        "\n",
        "ws = Window().partitionBy(\"Country\", \"State_cleaned\").orderBy(col(\"Date\").desc())\n",
        "corona_df.withColumn(\"row_num\", row_number().over(ws)).show()"
      ],
      "execution_count": 93,
      "outputs": [
        {
          "output_type": "stream",
          "name": "stdout",
          "text": [
            "+-----+-----+--------+------------------+-------+-------------------+---------+-----+---------+-------------+----+-------+\n",
            "|  _c0|State| Country|               Lat|   Long|               Date|Confirmed|Death|Recovered|state_cleaned|City|row_num|\n",
            "+-----+-----+--------+------------------+-------+-------------------+---------+-----+---------+-------------+----+-------+\n",
            "|27745| null|Cameroon|3.8480000000000003|11.5021|2020-03-20 00:00:00|       20|    0|        0|      Yaounde|null|      1|\n",
            "|27268| null|Cameroon|3.8480000000000003|11.5021|2020-03-19 00:00:00|       13|    0|        0|      Yaounde|null|      2|\n",
            "|26791| null|Cameroon|3.8480000000000003|11.5021|2020-03-18 00:00:00|       10|    0|        0|      Yaounde|null|      3|\n",
            "|26314| null|Cameroon|3.8480000000000003|11.5021|2020-03-17 00:00:00|       10|    0|        0|      Yaounde|null|      4|\n",
            "|25837| null|Cameroon|3.8480000000000003|11.5021|2020-03-16 00:00:00|        4|    0|        0|      Yaounde|null|      5|\n",
            "|25360| null|Cameroon|3.8480000000000003|11.5021|2020-03-15 00:00:00|        2|    0|        0|      Yaounde|null|      6|\n",
            "|24883| null|Cameroon|3.8480000000000003|11.5021|2020-03-14 00:00:00|        2|    0|        0|      Yaounde|null|      7|\n",
            "|24406| null|Cameroon|3.8480000000000003|11.5021|2020-03-13 00:00:00|        2|    0|        0|      Yaounde|null|      8|\n",
            "|23929| null|Cameroon|3.8480000000000003|11.5021|2020-03-12 00:00:00|        2|    0|        0|      Yaounde|null|      9|\n",
            "|23452| null|Cameroon|3.8480000000000003|11.5021|2020-03-11 00:00:00|        2|    0|        0|      Yaounde|null|     10|\n",
            "|22975| null|Cameroon|3.8480000000000003|11.5021|2020-03-10 00:00:00|        2|    0|        0|      Yaounde|null|     11|\n",
            "|22498| null|Cameroon|3.8480000000000003|11.5021|2020-03-09 00:00:00|        2|    0|        0|      Yaounde|null|     12|\n",
            "|22021| null|Cameroon|3.8480000000000003|11.5021|2020-03-08 00:00:00|        2|    0|        0|      Yaounde|null|     13|\n",
            "|21544| null|Cameroon|3.8480000000000003|11.5021|2020-03-07 00:00:00|        1|    0|        0|      Yaounde|null|     14|\n",
            "|21067| null|Cameroon|3.8480000000000003|11.5021|2020-03-06 00:00:00|        1|    0|        0|      Yaounde|null|     15|\n",
            "|20590| null|Cameroon|3.8480000000000003|11.5021|2020-03-05 00:00:00|        0|    0|        0|      Yaounde|null|     16|\n",
            "|20113| null|Cameroon|3.8480000000000003|11.5021|2020-03-04 00:00:00|        0|    0|        0|      Yaounde|null|     17|\n",
            "|19636| null|Cameroon|3.8480000000000003|11.5021|2020-03-03 00:00:00|        0|    0|        0|      Yaounde|null|     18|\n",
            "|19159| null|Cameroon|3.8480000000000003|11.5021|2020-03-02 00:00:00|        0|    0|        0|      Yaounde|null|     19|\n",
            "|18682| null|Cameroon|3.8480000000000003|11.5021|2020-03-01 00:00:00|        0|    0|        0|      Yaounde|null|     20|\n",
            "+-----+-----+--------+------------------+-------+-------------------+---------+-----+---------+-------------+----+-------+\n",
            "only showing top 20 rows\n",
            "\n"
          ]
        }
      ]
    },
    {
      "cell_type": "code",
      "metadata": {
        "colab": {
          "base_uri": "https://localhost:8080/"
        },
        "id": "uqmsb18NQHRp",
        "outputId": "a86465d4-aff4-4bfe-a8bc-b36a4053ac75"
      },
      "source": [
        "corona_df.withColumn(\"row_num\", row_number().over(ws)).where(col(\"row_num\")==1).show()"
      ],
      "execution_count": 94,
      "outputs": [
        {
          "output_type": "stream",
          "name": "stdout",
          "text": [
            "+-----+--------------------+--------------+------------------+---------+-------------------+---------+-----+---------+--------------------+--------+-------+\n",
            "|  _c0|               State|       Country|               Lat|     Long|               Date|Confirmed|Death|Recovered|       state_cleaned|    City|row_num|\n",
            "+-----+--------------------+--------------+------------------+---------+-------------------+---------+-----+---------+--------------------+--------+-------+\n",
            "|27745|                null|      Cameroon|3.8480000000000003|  11.5021|2020-03-20 00:00:00|       20|    0|        0|             Yaounde|    null|      1|\n",
            "|27859|             Qinghai|         China|           35.7452|  95.9956|2020-03-20 00:00:00|       18|    0|       18|             Qinghai|    null|      1|\n",
            "|27762|                null|        Cyprus|           35.1264|  33.4299|2020-03-20 00:00:00|       67|    0|        0|             Nicosia|    null|      1|\n",
            "|27812|            Michigan|            US|           43.3266| -84.5361|2020-03-20 00:00:00|      552|    3|        0|            Michigan|Michigan|      1|\n",
            "|27725|                null|      Portugal|           39.3999|  -8.2245|2020-03-20 00:00:00|     1020|    6|        5|              Lisbon|    null|      1|\n",
            "|27771|            Colorado|            US|           39.0598|-105.3111|2020-03-20 00:00:00|      363|    4|        0|            Colorado|Colorado|      1|\n",
            "|28115|      Cayman Islands|United Kingdom|           19.3133| -81.2546|2020-03-20 00:00:00|        3|    1|        0|      Cayman Islands|    null|      1|\n",
            "|27844|              Hainan|         China|           19.1959| 109.7453|2020-03-20 00:00:00|      168|    6|      161|              Hainan|    null|      1|\n",
            "|27805|            Missouri|            US|           38.4561| -92.2884|2020-03-20 00:00:00|       53|    2|        0|            Missouri|Missouri|      1|\n",
            "|28068|Australian Capita...|     Australia|          -35.4735| 149.0124|2020-03-20 00:00:00|        6|    0|        0|Australian Capita...|    null|      1|\n",
            "|28097|                Guam|            US|           13.4443| 144.7937|2020-03-20 00:00:00|       14|    0|        0|                Guam|    Guam|      1|\n",
            "|28116|             Reunion|        France|          -21.1351|  55.2471|2020-03-20 00:00:00|       28|    0|        0|             Reunion|    null|      1|\n",
            "|27746|                null|      Colombia|            4.5709| -74.2973|2020-03-20 00:00:00|      128|    0|        1|        Cundinamarca|    null|      1|\n",
            "|28066|                null|          Cuba|              22.0|    -80.0|2020-03-20 00:00:00|       16|    1|        0|              Havana|    null|      1|\n",
            "|28120|                null|     Mauritius|             -20.2|     57.5|2020-03-20 00:00:00|       12|    0|        0|          Port Louis|    null|      1|\n",
            "|27735|                null|       Ukraine|           48.3794|  31.1656|2020-03-20 00:00:00|       29|    3|        0|                Kiev|    null|      1|\n",
            "|28109|                null|         Benin|            9.3077|   2.3158|2020-03-20 00:00:00|        2|    0|        0|          Porto-Novo|    null|      1|\n",
            "|27697|                null|   Switzerland|           46.8182|   8.2275|2020-03-20 00:00:00|     5294|   54|       15|                Bern|    null|      1|\n",
            "|27752|                null|         Malta|           35.9375|  14.3754|2020-03-20 00:00:00|       64|    0|        2|               Mgarr|    null|      1|\n",
            "|28141|         Isle of Man|United Kingdom|           54.2361|  -4.5481|2020-03-20 00:00:00|        1|    0|        0|         Isle of Man|    null|      1|\n",
            "+-----+--------------------+--------------+------------------+---------+-------------------+---------+-----+---------+--------------------+--------+-------+\n",
            "only showing top 20 rows\n",
            "\n"
          ]
        }
      ]
    },
    {
      "cell_type": "code",
      "metadata": {
        "id": "Jq9Cjh2fR3fs"
      },
      "source": [
        "corona_max_df = corona_df.join(corona_df.groupBy(\"Country\", \"State_cleaned\").agg(F.max(\"Date\").alias(\"Date\")), on=[\"Country\", \"State_cleaned\", \"Date\"], how=\"inner\")"
      ],
      "execution_count": 95,
      "outputs": []
    },
    {
      "cell_type": "code",
      "metadata": {
        "colab": {
          "base_uri": "https://localhost:8080/"
        },
        "id": "u6UcR4gtUMw0",
        "outputId": "ce2fe399-fdb4-42c5-9e8e-c090c83e4f90"
      },
      "source": [
        "corona_max_df.show()"
      ],
      "execution_count": 96,
      "outputs": [
        {
          "output_type": "stream",
          "name": "stdout",
          "text": [
            "+--------------------+--------------------+-------------------+-----+----------------+--------+---------+---------+-----+---------+----+\n",
            "|             Country|       state_cleaned|               Date|  _c0|           State|     Lat|     Long|Confirmed|Death|Recovered|City|\n",
            "+--------------------+--------------------+-------------------+-----+----------------+--------+---------+---------+-----+---------+----+\n",
            "|            Thailand|             Bangkok|2020-03-20 00:00:00|27666|            null|    15.0|    101.0|      322|    1|       42|null|\n",
            "|               Japan|             Hiraide|2020-03-20 00:00:00|27667|            null|    36.0|    138.0|      963|   33|      191|null|\n",
            "|           Singapore|           Singapore|2020-03-20 00:00:00|27668|            null|  1.2833| 103.8333|      385|    0|      124|null|\n",
            "|               Nepal|           Kathmandu|2020-03-20 00:00:00|27669|            null| 28.1667|    84.25|        1|    0|        1|null|\n",
            "|            Malaysia|             Sarawak|2020-03-20 00:00:00|27670|            null|     2.5|    112.5|     1030|    3|       87|null|\n",
            "|              Canada|    British Columbia|2020-03-20 00:00:00|27671|British Columbia| 49.2827|-123.1207|      271|    8|        4|null|\n",
            "|           Australia|     New South Wales|2020-03-20 00:00:00|27672| New South Wales|-33.8688| 151.2093|      353|    6|        4|null|\n",
            "|           Australia|            Victoria|2020-03-20 00:00:00|27673|        Victoria|-37.8136| 144.9631|      121|    0|        8|null|\n",
            "|           Australia|          Queensland|2020-03-20 00:00:00|27674|      Queensland|-28.0167|    153.4|      184|    0|        8|null|\n",
            "|            Cambodia|          Phnom Penh|2020-03-20 00:00:00|27675|            null|   11.55| 104.9167|       51|    0|        1|null|\n",
            "|           Sri Lanka|Sri Jayawardenapu...|2020-03-20 00:00:00|27676|            null|     7.0|     81.0|       73|    0|        3|null|\n",
            "|             Germany|              Berlin|2020-03-20 00:00:00|27677|            null|    51.0|      9.0|    19848|   67|      180|null|\n",
            "|             Finland|            Helsinki|2020-03-20 00:00:00|27678|            null|    64.0|     26.0|      450|    0|       10|null|\n",
            "|United Arab Emirates|           Abu Dhabi|2020-03-20 00:00:00|27679|            null|    24.0|     54.0|      140|    2|       31|null|\n",
            "|         Philippines|              Manila|2020-03-20 00:00:00|27680|            null|    13.0|    122.0|      230|   18|        8|null|\n",
            "|               India|           New Delhi|2020-03-20 00:00:00|27681|            null|    21.0|     78.0|      244|    5|       20|null|\n",
            "|               Italy|                Rome|2020-03-20 00:00:00|27682|            null|    43.0|     12.0|    47021| 4032|     4440|null|\n",
            "|              Sweden|           Stockholm|2020-03-20 00:00:00|27683|            null|    63.0|     16.0|     1639|   16|       16|null|\n",
            "|               Spain|              Toledo|2020-03-20 00:00:00|27684|            null|    40.0|     -4.0|    20410| 1043|     1588|null|\n",
            "|           Australia|     South Australia|2020-03-20 00:00:00|27685| South Australia|-34.9285| 138.6007|       50|    0|        3|null|\n",
            "+--------------------+--------------------+-------------------+-----+----------------+--------+---------+---------+-----+---------+----+\n",
            "only showing top 20 rows\n",
            "\n"
          ]
        }
      ]
    },
    {
      "cell_type": "code",
      "metadata": {
        "colab": {
          "base_uri": "https://localhost:8080/"
        },
        "id": "EN6nOGyTUQwU",
        "outputId": "446f8cb6-8acc-4ca8-eb88-2d93d4b87396"
      },
      "source": [
        "corona_df.groupby(\"Country\").pivot(\"Date\").agg(F.sum(\"Confirmed\")).show(15)"
      ],
      "execution_count": 100,
      "outputs": [
        {
          "output_type": "stream",
          "name": "stdout",
          "text": [
            "+-----------+-------------------+-------------------+-------------------+-------------------+-------------------+-------------------+-------------------+-------------------+-------------------+-------------------+-------------------+-------------------+-------------------+-------------------+-------------------+-------------------+-------------------+-------------------+-------------------+-------------------+-------------------+-------------------+-------------------+-------------------+-------------------+-------------------+-------------------+-------------------+-------------------+-------------------+-------------------+-------------------+-------------------+-------------------+-------------------+-------------------+-------------------+-------------------+-------------------+-------------------+-------------------+-------------------+-------------------+-------------------+-------------------+-------------------+-------------------+-------------------+-------------------+-------------------+-------------------+-------------------+-------------------+-------------------+-------------------+-------------------+-------------------+-------------------+-------------------+\n",
            "|    Country|2020-01-22 00:00:00|2020-01-23 00:00:00|2020-01-24 00:00:00|2020-01-25 00:00:00|2020-01-26 00:00:00|2020-01-27 00:00:00|2020-01-28 00:00:00|2020-01-29 00:00:00|2020-01-30 00:00:00|2020-01-31 00:00:00|2020-02-01 00:00:00|2020-02-02 00:00:00|2020-02-03 00:00:00|2020-02-04 00:00:00|2020-02-05 00:00:00|2020-02-06 00:00:00|2020-02-07 00:00:00|2020-02-08 00:00:00|2020-02-09 00:00:00|2020-02-10 00:00:00|2020-02-11 00:00:00|2020-02-12 00:00:00|2020-02-13 00:00:00|2020-02-14 00:00:00|2020-02-15 00:00:00|2020-02-16 00:00:00|2020-02-17 00:00:00|2020-02-18 00:00:00|2020-02-19 00:00:00|2020-02-20 00:00:00|2020-02-21 00:00:00|2020-02-22 00:00:00|2020-02-23 00:00:00|2020-02-24 00:00:00|2020-02-25 00:00:00|2020-02-26 00:00:00|2020-02-27 00:00:00|2020-02-28 00:00:00|2020-02-29 00:00:00|2020-03-01 00:00:00|2020-03-02 00:00:00|2020-03-03 00:00:00|2020-03-04 00:00:00|2020-03-05 00:00:00|2020-03-06 00:00:00|2020-03-07 00:00:00|2020-03-08 00:00:00|2020-03-09 00:00:00|2020-03-10 00:00:00|2020-03-11 00:00:00|2020-03-12 00:00:00|2020-03-13 00:00:00|2020-03-14 00:00:00|2020-03-15 00:00:00|2020-03-16 00:00:00|2020-03-17 00:00:00|2020-03-18 00:00:00|2020-03-19 00:00:00|2020-03-20 00:00:00|\n",
            "+-----------+-------------------+-------------------+-------------------+-------------------+-------------------+-------------------+-------------------+-------------------+-------------------+-------------------+-------------------+-------------------+-------------------+-------------------+-------------------+-------------------+-------------------+-------------------+-------------------+-------------------+-------------------+-------------------+-------------------+-------------------+-------------------+-------------------+-------------------+-------------------+-------------------+-------------------+-------------------+-------------------+-------------------+-------------------+-------------------+-------------------+-------------------+-------------------+-------------------+-------------------+-------------------+-------------------+-------------------+-------------------+-------------------+-------------------+-------------------+-------------------+-------------------+-------------------+-------------------+-------------------+-------------------+-------------------+-------------------+-------------------+-------------------+-------------------+-------------------+\n",
            "|       Chad|                  0|                  0|                  0|                  0|                  0|                  0|                  0|                  0|                  0|                  0|                  0|                  0|                  0|                  0|                  0|                  0|                  0|                  0|                  0|                  0|                  0|                  0|                  0|                  0|                  0|                  0|                  0|                  0|                  0|                  0|                  0|                  0|                  0|                  0|                  0|                  0|                  0|                  0|                  0|                  0|                  0|                  0|                  0|                  0|                  0|                  0|                  0|                  0|                  0|                  0|                  0|                  0|                  0|                  0|                  0|                  0|                  0|                  1|                  1|\n",
            "|     Russia|                  0|                  0|                  0|                  0|                  0|                  0|                  0|                  0|                  0|                  2|                  2|                  2|                  2|                  2|                  2|                  2|                  2|                  2|                  2|                  2|                  2|                  2|                  2|                  2|                  2|                  2|                  2|                  2|                  2|                  2|                  2|                  2|                  2|                  2|                  2|                  2|                  2|                  2|                  2|                  2|                  3|                  3|                  3|                  4|                 13|                 13|                 17|                 17|                 20|                 20|                 28|                 45|                 59|                 63|                 90|                114|                147|                199|                253|\n",
            "|   Paraguay|                  0|                  0|                  0|                  0|                  0|                  0|                  0|                  0|                  0|                  0|                  0|                  0|                  0|                  0|                  0|                  0|                  0|                  0|                  0|                  0|                  0|                  0|                  0|                  0|                  0|                  0|                  0|                  0|                  0|                  0|                  0|                  0|                  0|                  0|                  0|                  0|                  0|                  0|                  0|                  0|                  0|                  0|                  0|                  0|                  0|                  0|                  1|                  1|                  1|                  5|                  5|                  6|                  6|                  6|                  8|                  9|                 11|                 11|                 13|\n",
            "|    Senegal|                  0|                  0|                  0|                  0|                  0|                  0|                  0|                  0|                  0|                  0|                  0|                  0|                  0|                  0|                  0|                  0|                  0|                  0|                  0|                  0|                  0|                  0|                  0|                  0|                  0|                  0|                  0|                  0|                  0|                  0|                  0|                  0|                  0|                  0|                  0|                  0|                  0|                  0|                  0|                  0|                  1|                  2|                  4|                  4|                  4|                  4|                  4|                  4|                  4|                  4|                  4|                 10|                 10|                 24|                 24|                 26|                 31|                 31|                 38|\n",
            "|     Sweden|                  0|                  0|                  0|                  0|                  0|                  0|                  0|                  0|                  0|                  1|                  1|                  1|                  1|                  1|                  1|                  1|                  1|                  1|                  1|                  1|                  1|                  1|                  1|                  1|                  1|                  1|                  1|                  1|                  1|                  1|                  1|                  1|                  1|                  1|                  1|                  2|                  7|                  7|                 12|                 14|                 15|                 21|                 35|                 94|                101|                161|                203|                248|                355|                500|                599|                814|                961|               1022|               1103|               1190|               1279|               1439|               1639|\n",
            "| Cabo Verde|                  0|                  0|                  0|                  0|                  0|                  0|                  0|                  0|                  0|                  0|                  0|                  0|                  0|                  0|                  0|                  0|                  0|                  0|                  0|                  0|                  0|                  0|                  0|                  0|                  0|                  0|                  0|                  0|                  0|                  0|                  0|                  0|                  0|                  0|                  0|                  0|                  0|                  0|                  0|                  0|                  0|                  0|                  0|                  0|                  0|                  0|                  0|                  0|                  0|                  0|                  0|                  0|                  0|                  0|                  0|                  0|                  0|                  0|                  1|\n",
            "|     Guyana|                  0|                  0|                  0|                  0|                  0|                  0|                  0|                  0|                  0|                  0|                  0|                  0|                  0|                  0|                  0|                  0|                  0|                  0|                  0|                  0|                  0|                  0|                  0|                  0|                  0|                  0|                  0|                  0|                  0|                  0|                  0|                  0|                  0|                  0|                  0|                  0|                  0|                  0|                  0|                  0|                  0|                  0|                  0|                  0|                  0|                  0|                  0|                  0|                  0|                  0|                  1|                  1|                  1|                  4|                  4|                  7|                  7|                  7|                  7|\n",
            "|Philippines|                  0|                  0|                  0|                  0|                  0|                  0|                  0|                  0|                  1|                  1|                  1|                  2|                  2|                  2|                  2|                  2|                  3|                  3|                  3|                  3|                  3|                  3|                  3|                  3|                  3|                  3|                  3|                  3|                  3|                  3|                  3|                  3|                  3|                  3|                  3|                  3|                  3|                  3|                  3|                  3|                  3|                  3|                  3|                  3|                  5|                  6|                 10|                 20|                 33|                 49|                 52|                 64|                111|                140|                142|                187|                202|                217|                230|\n",
            "|   Djibouti|                  0|                  0|                  0|                  0|                  0|                  0|                  0|                  0|                  0|                  0|                  0|                  0|                  0|                  0|                  0|                  0|                  0|                  0|                  0|                  0|                  0|                  0|                  0|                  0|                  0|                  0|                  0|                  0|                  0|                  0|                  0|                  0|                  0|                  0|                  0|                  0|                  0|                  0|                  0|                  0|                  0|                  0|                  0|                  0|                  0|                  0|                  0|                  0|                  0|                  0|                  0|                  0|                  0|                  0|                  0|                  0|                  1|                  1|                  1|\n",
            "|   Malaysia|                  0|                  0|                  0|                  3|                  4|                  4|                  4|                  7|                  8|                  8|                  8|                  8|                  8|                 10|                 12|                 12|                 12|                 16|                 16|                 18|                 18|                 18|                 19|                 19|                 22|                 22|                 22|                 22|                 22|                 22|                 22|                 22|                 22|                 22|                 22|                 22|                 23|                 23|                 25|                 29|                 29|                 36|                 50|                 50|                 83|                 93|                 99|                117|                129|                149|                149|                197|                238|                428|                566|                673|                790|                900|               1030|\n",
            "|  Singapore|                  0|                  1|                  3|                  3|                  4|                  5|                  7|                  7|                 10|                 13|                 16|                 18|                 18|                 24|                 28|                 28|                 30|                 33|                 40|                 45|                 47|                 50|                 58|                 67|                 72|                 75|                 77|                 81|                 84|                 84|                 85|                 85|                 89|                 89|                 91|                 93|                 93|                 93|                102|                106|                108|                110|                110|                117|                130|                138|                150|                150|                160|                178|                178|                200|                212|                226|                243|                266|                313|                345|                385|\n",
            "|       Fiji|                  0|                  0|                  0|                  0|                  0|                  0|                  0|                  0|                  0|                  0|                  0|                  0|                  0|                  0|                  0|                  0|                  0|                  0|                  0|                  0|                  0|                  0|                  0|                  0|                  0|                  0|                  0|                  0|                  0|                  0|                  0|                  0|                  0|                  0|                  0|                  0|                  0|                  0|                  0|                  0|                  0|                  0|                  0|                  0|                  0|                  0|                  0|                  0|                  0|                  0|                  0|                  0|                  0|                  0|                  0|                  0|                  0|                  1|                  1|\n",
            "|     Turkey|                  0|                  0|                  0|                  0|                  0|                  0|                  0|                  0|                  0|                  0|                  0|                  0|                  0|                  0|                  0|                  0|                  0|                  0|                  0|                  0|                  0|                  0|                  0|                  0|                  0|                  0|                  0|                  0|                  0|                  0|                  0|                  0|                  0|                  0|                  0|                  0|                  0|                  0|                  0|                  0|                  0|                  0|                  0|                  0|                  0|                  0|                  0|                  0|                  0|                  1|                  1|                  5|                  5|                  6|                 18|                 47|                 98|                192|                359|\n",
            "|       Iraq|                  0|                  0|                  0|                  0|                  0|                  0|                  0|                  0|                  0|                  0|                  0|                  0|                  0|                  0|                  0|                  0|                  0|                  0|                  0|                  0|                  0|                  0|                  0|                  0|                  0|                  0|                  0|                  0|                  0|                  0|                  0|                  0|                  0|                  1|                  1|                  5|                  7|                  7|                 13|                 19|                 26|                 32|                 35|                 35|                 40|                 54|                 60|                 60|                 71|                 71|                 71|                101|                110|                116|                124|                154|                164|                192|                208|\n",
            "|    Germany|                  0|                  0|                  0|                  0|                  0|                  1|                  4|                  4|                  4|                  5|                  8|                 10|                 12|                 12|                 12|                 12|                 13|                 13|                 14|                 14|                 16|                 16|                 16|                 16|                 16|                 16|                 16|                 16|                 16|                 16|                 16|                 16|                 16|                 16|                 17|                 27|                 46|                 48|                 79|                130|                159|                196|                262|                482|                670|                799|               1040|               1176|               1457|               1908|               2078|               3675|               4585|               5795|               7272|               9257|              12327|              15320|              19848|\n",
            "+-----------+-------------------+-------------------+-------------------+-------------------+-------------------+-------------------+-------------------+-------------------+-------------------+-------------------+-------------------+-------------------+-------------------+-------------------+-------------------+-------------------+-------------------+-------------------+-------------------+-------------------+-------------------+-------------------+-------------------+-------------------+-------------------+-------------------+-------------------+-------------------+-------------------+-------------------+-------------------+-------------------+-------------------+-------------------+-------------------+-------------------+-------------------+-------------------+-------------------+-------------------+-------------------+-------------------+-------------------+-------------------+-------------------+-------------------+-------------------+-------------------+-------------------+-------------------+-------------------+-------------------+-------------------+-------------------+-------------------+-------------------+-------------------+-------------------+-------------------+\n",
            "only showing top 15 rows\n",
            "\n"
          ]
        }
      ]
    },
    {
      "cell_type": "code",
      "metadata": {
        "colab": {
          "base_uri": "https://localhost:8080/"
        },
        "id": "u8mjlOeIUvEE",
        "outputId": "17ef950d-a393-42c7-b98d-774a7e6d172b"
      },
      "source": [
        "corona_df.filter(\"Country=='US'\").crosstab(\"State\", \"Date\").show()"
      ],
      "execution_count": 101,
      "outputs": [
        {
          "output_type": "stream",
          "name": "stdout",
          "text": [
            "+-------------------+---------------------+---------------------+---------------------+---------------------+---------------------+---------------------+---------------------+---------------------+---------------------+---------------------+---------------------+---------------------+---------------------+---------------------+---------------------+---------------------+---------------------+---------------------+---------------------+---------------------+---------------------+---------------------+---------------------+---------------------+---------------------+---------------------+---------------------+---------------------+---------------------+---------------------+---------------------+---------------------+---------------------+---------------------+---------------------+---------------------+---------------------+---------------------+---------------------+---------------------+---------------------+---------------------+---------------------+---------------------+---------------------+---------------------+---------------------+---------------------+---------------------+---------------------+---------------------+---------------------+---------------------+---------------------+---------------------+---------------------+---------------------+---------------------+---------------------+\n",
            "|         State_Date|2020-01-22 00:00:00.0|2020-01-23 00:00:00.0|2020-01-24 00:00:00.0|2020-01-25 00:00:00.0|2020-01-26 00:00:00.0|2020-01-27 00:00:00.0|2020-01-28 00:00:00.0|2020-01-29 00:00:00.0|2020-01-30 00:00:00.0|2020-01-31 00:00:00.0|2020-02-01 00:00:00.0|2020-02-02 00:00:00.0|2020-02-03 00:00:00.0|2020-02-04 00:00:00.0|2020-02-05 00:00:00.0|2020-02-06 00:00:00.0|2020-02-07 00:00:00.0|2020-02-08 00:00:00.0|2020-02-09 00:00:00.0|2020-02-10 00:00:00.0|2020-02-11 00:00:00.0|2020-02-12 00:00:00.0|2020-02-13 00:00:00.0|2020-02-14 00:00:00.0|2020-02-15 00:00:00.0|2020-02-16 00:00:00.0|2020-02-17 00:00:00.0|2020-02-18 00:00:00.0|2020-02-19 00:00:00.0|2020-02-20 00:00:00.0|2020-02-21 00:00:00.0|2020-02-22 00:00:00.0|2020-02-23 00:00:00.0|2020-02-24 00:00:00.0|2020-02-25 00:00:00.0|2020-02-26 00:00:00.0|2020-02-27 00:00:00.0|2020-02-28 00:00:00.0|2020-02-29 00:00:00.0|2020-03-01 00:00:00.0|2020-03-02 00:00:00.0|2020-03-03 00:00:00.0|2020-03-04 00:00:00.0|2020-03-05 00:00:00.0|2020-03-06 00:00:00.0|2020-03-07 00:00:00.0|2020-03-08 00:00:00.0|2020-03-09 00:00:00.0|2020-03-10 00:00:00.0|2020-03-11 00:00:00.0|2020-03-12 00:00:00.0|2020-03-13 00:00:00.0|2020-03-14 00:00:00.0|2020-03-15 00:00:00.0|2020-03-16 00:00:00.0|2020-03-17 00:00:00.0|2020-03-18 00:00:00.0|2020-03-19 00:00:00.0|2020-03-20 00:00:00.0|\n",
            "+-------------------+---------------------+---------------------+---------------------+---------------------+---------------------+---------------------+---------------------+---------------------+---------------------+---------------------+---------------------+---------------------+---------------------+---------------------+---------------------+---------------------+---------------------+---------------------+---------------------+---------------------+---------------------+---------------------+---------------------+---------------------+---------------------+---------------------+---------------------+---------------------+---------------------+---------------------+---------------------+---------------------+---------------------+---------------------+---------------------+---------------------+---------------------+---------------------+---------------------+---------------------+---------------------+---------------------+---------------------+---------------------+---------------------+---------------------+---------------------+---------------------+---------------------+---------------------+---------------------+---------------------+---------------------+---------------------+---------------------+---------------------+---------------------+---------------------+---------------------+\n",
            "|         New Mexico|                    1|                    1|                    1|                    1|                    1|                    1|                    1|                    1|                    1|                    1|                    1|                    1|                    1|                    1|                    1|                    1|                    1|                    1|                    1|                    1|                    1|                    1|                    1|                    1|                    1|                    1|                    1|                    1|                    1|                    1|                    1|                    1|                    1|                    1|                    1|                    1|                    1|                    1|                    1|                    1|                    1|                    1|                    1|                    1|                    1|                    1|                    1|                    1|                    1|                    1|                    1|                    1|                    1|                    1|                    1|                    1|                    1|                    1|                    1|\n",
            "|   Clark County, NV|                    1|                    1|                    1|                    1|                    1|                    1|                    1|                    1|                    1|                    1|                    1|                    1|                    1|                    1|                    1|                    1|                    1|                    1|                    1|                    1|                    1|                    1|                    1|                    1|                    1|                    1|                    1|                    1|                    1|                    1|                    1|                    1|                    1|                    1|                    1|                    1|                    1|                    1|                    1|                    1|                    1|                    1|                    1|                    1|                    1|                    1|                    1|                    1|                    1|                    1|                    1|                    1|                    1|                    1|                    1|                    1|                    1|                    1|                    1|\n",
            "|         Summit, UT|                    1|                    1|                    1|                    1|                    1|                    1|                    1|                    1|                    1|                    1|                    1|                    1|                    1|                    1|                    1|                    1|                    1|                    1|                    1|                    1|                    1|                    1|                    1|                    1|                    1|                    1|                    1|                    1|                    1|                    1|                    1|                    1|                    1|                    1|                    1|                    1|                    1|                    1|                    1|                    1|                    1|                    1|                    1|                    1|                    1|                    1|                    1|                    1|                    1|                    1|                    1|                    1|                    1|                    1|                    1|                    1|                    1|                    1|                    1|\n",
            "|     Montgomery, TX|                    1|                    1|                    1|                    1|                    1|                    1|                    1|                    1|                    1|                    1|                    1|                    1|                    1|                    1|                    1|                    1|                    1|                    1|                    1|                    1|                    1|                    1|                    1|                    1|                    1|                    1|                    1|                    1|                    1|                    1|                    1|                    1|                    1|                    1|                    1|                    1|                    1|                    1|                    1|                    1|                    1|                    1|                    1|                    1|                    1|                    1|                    1|                    1|                    1|                    1|                    1|                    1|                    1|                    1|                    1|                    1|                    1|                    1|                    1|\n",
            "|           Dane, WI|                    1|                    1|                    1|                    1|                    1|                    1|                    1|                    1|                    1|                    1|                    1|                    1|                    1|                    1|                    1|                    1|                    1|                    1|                    1|                    1|                    1|                    1|                    1|                    1|                    1|                    1|                    1|                    1|                    1|                    1|                    1|                    1|                    1|                    1|                    1|                    1|                    1|                    1|                    1|                    1|                    1|                    1|                    1|                    1|                    1|                    1|                    1|                    1|                    1|                    1|                    1|                    1|                    1|                    1|                    1|                    1|                    1|                    1|                    1|\n",
            "|Prince George's, MD|                    1|                    1|                    1|                    1|                    1|                    1|                    1|                    1|                    1|                    1|                    1|                    1|                    1|                    1|                    1|                    1|                    1|                    1|                    1|                    1|                    1|                    1|                    1|                    1|                    1|                    1|                    1|                    1|                    1|                    1|                    1|                    1|                    1|                    1|                    1|                    1|                    1|                    1|                    1|                    1|                    1|                    1|                    1|                    1|                    1|                    1|                    1|                    1|                    1|                    1|                    1|                    1|                    1|                    1|                    1|                    1|                    1|                    1|                    1|\n",
            "|Maricopa County, AZ|                    1|                    1|                    1|                    1|                    1|                    1|                    1|                    1|                    1|                    1|                    1|                    1|                    1|                    1|                    1|                    1|                    1|                    1|                    1|                    1|                    1|                    1|                    1|                    1|                    1|                    1|                    1|                    1|                    1|                    1|                    1|                    1|                    1|                    1|                    1|                    1|                    1|                    1|                    1|                    1|                    1|                    1|                    1|                    1|                    1|                    1|                    1|                    1|                    1|                    1|                    1|                    1|                    1|                    1|                    1|                    1|                    1|                    1|                    1|\n",
            "|  Harris County, TX|                    1|                    1|                    1|                    1|                    1|                    1|                    1|                    1|                    1|                    1|                    1|                    1|                    1|                    1|                    1|                    1|                    1|                    1|                    1|                    1|                    1|                    1|                    1|                    1|                    1|                    1|                    1|                    1|                    1|                    1|                    1|                    1|                    1|                    1|                    1|                    1|                    1|                    1|                    1|                    1|                    1|                    1|                    1|                    1|                    1|                    1|                    1|                    1|                    1|                    1|                    1|                    1|                    1|                    1|                    1|                    1|                    1|                    1|                    1|\n",
            "|     New Castle, DE|                    1|                    1|                    1|                    1|                    1|                    1|                    1|                    1|                    1|                    1|                    1|                    1|                    1|                    1|                    1|                    1|                    1|                    1|                    1|                    1|                    1|                    1|                    1|                    1|                    1|                    1|                    1|                    1|                    1|                    1|                    1|                    1|                    1|                    1|                    1|                    1|                    1|                    1|                    1|                    1|                    1|                    1|                    1|                    1|                    1|                    1|                    1|                    1|                    1|                    1|                    1|                    1|                    1|                    1|                    1|                    1|                    1|                    1|                    1|\n",
            "|      Deschutes, OR|                    1|                    1|                    1|                    1|                    1|                    1|                    1|                    1|                    1|                    1|                    1|                    1|                    1|                    1|                    1|                    1|                    1|                    1|                    1|                    1|                    1|                    1|                    1|                    1|                    1|                    1|                    1|                    1|                    1|                    1|                    1|                    1|                    1|                    1|                    1|                    1|                    1|                    1|                    1|                    1|                    1|                    1|                    1|                    1|                    1|                    1|                    1|                    1|                    1|                    1|                    1|                    1|                    1|                    1|                    1|                    1|                    1|                    1|                    1|\n",
            "|        Connecticut|                    1|                    1|                    1|                    1|                    1|                    1|                    1|                    1|                    1|                    1|                    1|                    1|                    1|                    1|                    1|                    1|                    1|                    1|                    1|                    1|                    1|                    1|                    1|                    1|                    1|                    1|                    1|                    1|                    1|                    1|                    1|                    1|                    1|                    1|                    1|                    1|                    1|                    1|                    1|                    1|                    1|                    1|                    1|                    1|                    1|                    1|                    1|                    1|                    1|                    1|                    1|                    1|                    1|                    1|                    1|                    1|                    1|                    1|                    1|\n",
            "|          Gregg, TX|                    1|                    1|                    1|                    1|                    1|                    1|                    1|                    1|                    1|                    1|                    1|                    1|                    1|                    1|                    1|                    1|                    1|                    1|                    1|                    1|                    1|                    1|                    1|                    1|                    1|                    1|                    1|                    1|                    1|                    1|                    1|                    1|                    1|                    1|                    1|                    1|                    1|                    1|                    1|                    1|                    1|                    1|                    1|                    1|                    1|                    1|                    1|                    1|                    1|                    1|                    1|                    1|                    1|                    1|                    1|                    1|                    1|                    1|                    1|\n",
            "|    Wake County, NC|                    1|                    1|                    1|                    1|                    1|                    1|                    1|                    1|                    1|                    1|                    1|                    1|                    1|                    1|                    1|                    1|                    1|                    1|                    1|                    1|                    1|                    1|                    1|                    1|                    1|                    1|                    1|                    1|                    1|                    1|                    1|                    1|                    1|                    1|                    1|                    1|                    1|                    1|                    1|                    1|                    1|                    1|                    1|                    1|                    1|                    1|                    1|                    1|                    1|                    1|                    1|                    1|                    1|                    1|                    1|                    1|                    1|                    1|                    1|\n",
            "|          Boone, IN|                    1|                    1|                    1|                    1|                    1|                    1|                    1|                    1|                    1|                    1|                    1|                    1|                    1|                    1|                    1|                    1|                    1|                    1|                    1|                    1|                    1|                    1|                    1|                    1|                    1|                    1|                    1|                    1|                    1|                    1|                    1|                    1|                    1|                    1|                    1|                    1|                    1|                    1|                    1|                    1|                    1|                    1|                    1|                    1|                    1|                    1|                    1|                    1|                    1|                    1|                    1|                    1|                    1|                    1|                    1|                    1|                    1|                    1|                    1|\n",
            "|         Beadle, SD|                    1|                    1|                    1|                    1|                    1|                    1|                    1|                    1|                    1|                    1|                    1|                    1|                    1|                    1|                    1|                    1|                    1|                    1|                    1|                    1|                    1|                    1|                    1|                    1|                    1|                    1|                    1|                    1|                    1|                    1|                    1|                    1|                    1|                    1|                    1|                    1|                    1|                    1|                    1|                    1|                    1|                    1|                    1|                    1|                    1|                    1|                    1|                    1|                    1|                    1|                    1|                    1|                    1|                    1|                    1|                    1|                    1|                    1|                    1|\n",
            "| Johnson County, IA|                    1|                    1|                    1|                    1|                    1|                    1|                    1|                    1|                    1|                    1|                    1|                    1|                    1|                    1|                    1|                    1|                    1|                    1|                    1|                    1|                    1|                    1|                    1|                    1|                    1|                    1|                    1|                    1|                    1|                    1|                    1|                    1|                    1|                    1|                    1|                    1|                    1|                    1|                    1|                    1|                    1|                    1|                    1|                    1|                    1|                    1|                    1|                    1|                    1|                    1|                    1|                    1|                    1|                    1|                    1|                    1|                    1|                    1|                    1|\n",
            "|   Tulsa County, OK|                    1|                    1|                    1|                    1|                    1|                    1|                    1|                    1|                    1|                    1|                    1|                    1|                    1|                    1|                    1|                    1|                    1|                    1|                    1|                    1|                    1|                    1|                    1|                    1|                    1|                    1|                    1|                    1|                    1|                    1|                    1|                    1|                    1|                    1|                    1|                    1|                    1|                    1|                    1|                    1|                    1|                    1|                    1|                    1|                    1|                    1|                    1|                    1|                    1|                    1|                    1|                    1|                    1|                    1|                    1|                    1|                    1|                    1|                    1|\n",
            "|         California|                    1|                    1|                    1|                    1|                    1|                    1|                    1|                    1|                    1|                    1|                    1|                    1|                    1|                    1|                    1|                    1|                    1|                    1|                    1|                    1|                    1|                    1|                    1|                    1|                    1|                    1|                    1|                    1|                    1|                    1|                    1|                    1|                    1|                    1|                    1|                    1|                    1|                    1|                    1|                    1|                    1|                    1|                    1|                    1|                    1|                    1|                    1|                    1|                    1|                    1|                    1|                    1|                    1|                    1|                    1|                    1|                    1|                    1|                    1|\n",
            "|  Collin County, TX|                    1|                    1|                    1|                    1|                    1|                    1|                    1|                    1|                    1|                    1|                    1|                    1|                    1|                    1|                    1|                    1|                    1|                    1|                    1|                    1|                    1|                    1|                    1|                    1|                    1|                    1|                    1|                    1|                    1|                    1|                    1|                    1|                    1|                    1|                    1|                    1|                    1|                    1|                    1|                    1|                    1|                    1|                    1|                    1|                    1|                    1|                    1|                    1|                    1|                    1|                    1|                    1|                    1|                    1|                    1|                    1|                    1|                    1|                    1|\n",
            "|       Charlton, GA|                    1|                    1|                    1|                    1|                    1|                    1|                    1|                    1|                    1|                    1|                    1|                    1|                    1|                    1|                    1|                    1|                    1|                    1|                    1|                    1|                    1|                    1|                    1|                    1|                    1|                    1|                    1|                    1|                    1|                    1|                    1|                    1|                    1|                    1|                    1|                    1|                    1|                    1|                    1|                    1|                    1|                    1|                    1|                    1|                    1|                    1|                    1|                    1|                    1|                    1|                    1|                    1|                    1|                    1|                    1|                    1|                    1|                    1|                    1|\n",
            "+-------------------+---------------------+---------------------+---------------------+---------------------+---------------------+---------------------+---------------------+---------------------+---------------------+---------------------+---------------------+---------------------+---------------------+---------------------+---------------------+---------------------+---------------------+---------------------+---------------------+---------------------+---------------------+---------------------+---------------------+---------------------+---------------------+---------------------+---------------------+---------------------+---------------------+---------------------+---------------------+---------------------+---------------------+---------------------+---------------------+---------------------+---------------------+---------------------+---------------------+---------------------+---------------------+---------------------+---------------------+---------------------+---------------------+---------------------+---------------------+---------------------+---------------------+---------------------+---------------------+---------------------+---------------------+---------------------+---------------------+---------------------+---------------------+---------------------+---------------------+\n",
            "only showing top 20 rows\n",
            "\n"
          ]
        }
      ]
    },
    {
      "cell_type": "code",
      "metadata": {
        "colab": {
          "base_uri": "https://localhost:8080/"
        },
        "id": "951GOQgbVZK1",
        "outputId": "8d99b60c-b287-4724-f805-35ef684ac94e"
      },
      "source": [
        "corona_max_df.groupby(\"Country\").agg({\"Confirmed\":\"sum\"}).show()"
      ],
      "execution_count": 102,
      "outputs": [
        {
          "output_type": "stream",
          "name": "stdout",
          "text": [
            "+-----------+--------------+\n",
            "|    Country|sum(Confirmed)|\n",
            "+-----------+--------------+\n",
            "|       Chad|             1|\n",
            "|   Paraguay|            13|\n",
            "|     Russia|           253|\n",
            "|    Senegal|            38|\n",
            "|     Sweden|          1639|\n",
            "| Cabo Verde|             1|\n",
            "|     Guyana|             7|\n",
            "|Philippines|           230|\n",
            "|   Djibouti|             1|\n",
            "|  Singapore|           385|\n",
            "|   Malaysia|          1030|\n",
            "|       Fiji|             1|\n",
            "|     Turkey|           359|\n",
            "|       Iraq|           208|\n",
            "|    Germany|         19848|\n",
            "|   Cambodia|            51|\n",
            "|Afghanistan|            24|\n",
            "|     Jordan|            85|\n",
            "|   Maldives|            13|\n",
            "|     Rwanda|            17|\n",
            "+-----------+--------------+\n",
            "only showing top 20 rows\n",
            "\n"
          ]
        }
      ]
    },
    {
      "cell_type": "code",
      "metadata": {
        "colab": {
          "base_uri": "https://localhost:8080/"
        },
        "id": "zZuefAKLWfSN",
        "outputId": "cc221ca2-8449-416e-ce0a-6e8bc4d998c2"
      },
      "source": [
        "corona_max_df.groupby(\"Country\").agg({\"Confirmed\":\"sum\", \"Recovered\":\"sum\",\"Death\":\"sum\"}).orderBy(\"sum(Confirmed)\", ascending=False).show()"
      ],
      "execution_count": 103,
      "outputs": [
        {
          "output_type": "stream",
          "name": "stdout",
          "text": [
            "+--------------+--------------+----------+--------------+\n",
            "|       Country|sum(Recovered)|sum(Death)|sum(Confirmed)|\n",
            "+--------------+--------------+----------+--------------+\n",
            "|         China|         71266|      3253|         81250|\n",
            "|         Italy|          4440|      4032|         47021|\n",
            "|         Spain|          1588|      1043|         20410|\n",
            "|       Germany|           180|        67|         19848|\n",
            "|          Iran|          6745|      1433|         19644|\n",
            "|            US|             0|       244|         19100|\n",
            "|        France|            12|       450|         12726|\n",
            "|  Korea, South|          1540|        94|          8652|\n",
            "|   Switzerland|            15|        54|          5294|\n",
            "|United Kingdom|            67|       178|          4014|\n",
            "|   Netherlands|             2|       107|          3003|\n",
            "|       Austria|             9|         6|          2388|\n",
            "|       Belgium|             1|        37|          2257|\n",
            "|        Norway|             1|         7|          1914|\n",
            "|        Sweden|            16|        16|          1639|\n",
            "|       Denmark|             1|         9|          1337|\n",
            "|      Malaysia|            87|         3|          1030|\n",
            "|      Portugal|             5|         6|          1020|\n",
            "|         Japan|           191|        33|           963|\n",
            "|        Canada|             9|        12|           943|\n",
            "+--------------+--------------+----------+--------------+\n",
            "only showing top 20 rows\n",
            "\n"
          ]
        }
      ]
    },
    {
      "cell_type": "code",
      "metadata": {
        "colab": {
          "base_uri": "https://localhost:8080/"
        },
        "id": "JK-6EMYfW-NZ",
        "outputId": "da743f35-4aea-4100-8276-6cd49e62b3c5"
      },
      "source": [
        "corona_max_df.withColumn(\"Active\", corona_max_df.Confirmed - corona_max_df.Recovered - corona_max_df.Death).sort(\"Active\", ascending = False).show()"
      ],
      "execution_count": 104,
      "outputs": [
        {
          "output_type": "stream",
          "name": "stdout",
          "text": [
            "+--------------+----------------+-------------------+-----+--------------+-------+-------------------+---------+-----+---------+----------+------+\n",
            "|       Country|   state_cleaned|               Date|  _c0|         State|    Lat|               Long|Confirmed|Death|Recovered|      City|Active|\n",
            "+--------------+----------------+-------------------+-----+--------------+-------+-------------------+---------+-----+---------+----------+------+\n",
            "|         Italy|            Rome|2020-03-20 00:00:00|27682|          null|   43.0|               12.0|    47021| 4032|     4440|      null| 38549|\n",
            "|       Germany|          Berlin|2020-03-20 00:00:00|27677|          null|   51.0|                9.0|    19848|   67|      180|      null| 19601|\n",
            "|         Spain|          Toledo|2020-03-20 00:00:00|27684|          null|   40.0|               -4.0|    20410| 1043|     1588|      null| 17779|\n",
            "|        France|          France|2020-03-20 00:00:00|27823|        France|46.2276|             2.2137|    12612|  450|       12|      null| 12150|\n",
            "|          Iran|          Tehran|2020-03-20 00:00:00|27821|          null|   32.0|               53.0|    19644| 1433|     6745|      null| 11466|\n",
            "|            US|        New York|2020-03-20 00:00:00|27765|      New York|42.1657|           -74.9481|     8310|   42|        0|  New York|  8268|\n",
            "|  Korea, South|Gyeongsangbuk-do|2020-03-20 00:00:00|27822|          null|   36.0|              128.0|     8652|   94|     1540|      null|  7018|\n",
            "|         China|           Hubei|2020-03-20 00:00:00|27820|         Hubei|30.9756|           112.2707|    67800| 3133|    58382|      null|  6285|\n",
            "|   Switzerland|            Bern|2020-03-20 00:00:00|27697|          null|46.8182|             8.2275|     5294|   54|       15|      null|  5225|\n",
            "|United Kingdom|  United Kingdom|2020-03-20 00:00:00|28069|United Kingdom|55.3781|-3.4360000000000004|     3983|  177|       65|      null|  3741|\n",
            "|   Netherlands|     Netherlands|2020-03-20 00:00:00|28106|   Netherlands|52.1326|             5.2913|     2994|  106|        2|      null|  2886|\n",
            "|       Austria|          Vienna|2020-03-20 00:00:00|27698|          null|47.5162|            14.5501|     2388|    6|        9|      null|  2373|\n",
            "|       Belgium|        Brussels|2020-03-20 00:00:00|27686|          null|50.8333|                4.0|     2257|   37|        1|      null|  2219|\n",
            "|        Norway|             Hol|2020-03-20 00:00:00|27705|          null| 60.472|             8.4689|     1914|    7|        1|      null|  1906|\n",
            "|        Sweden|       Stockholm|2020-03-20 00:00:00|27683|          null|   63.0|               16.0|     1639|   16|       16|      null|  1607|\n",
            "|            US|      Washington|2020-03-20 00:00:00|27764|    Washington|47.4009|          -121.4905|     1524|   83|        0|Washington|  1441|\n",
            "|       Denmark|         Denmark|2020-03-20 00:00:00|27836|       Denmark|56.2639|             9.5018|     1255|    9|        1|      null|  1245|\n",
            "|            US|      California|2020-03-20 00:00:00|27766|    California|36.1162|          -119.6816|     1177|   23|        0|California|  1154|\n",
            "|      Portugal|          Lisbon|2020-03-20 00:00:00|27725|          null|39.3999|            -8.2245|     1020|    6|        5|      null|  1009|\n",
            "|      Malaysia|         Sarawak|2020-03-20 00:00:00|27670|          null|    2.5|              112.5|     1030|    3|       87|      null|   940|\n",
            "+--------------+----------------+-------------------+-----+--------------+-------+-------------------+---------+-----+---------+----------+------+\n",
            "only showing top 20 rows\n",
            "\n"
          ]
        }
      ]
    },
    {
      "cell_type": "code",
      "metadata": {
        "id": "t-f1YXkXXnnC"
      },
      "source": [
        "corona_max_df = corona_max_df.withColumn(\"Active\", corona_max_df.Confirmed - corona_max_df.Recovered - corona_max_df.Death)"
      ],
      "execution_count": 105,
      "outputs": []
    },
    {
      "cell_type": "code",
      "metadata": {
        "colab": {
          "base_uri": "https://localhost:8080/"
        },
        "id": "5pCrqN6oYHtG",
        "outputId": "ecccde3c-657b-4dda-c7f8-f5bb76497ac6"
      },
      "source": [
        "corona_max_df.show(10)"
      ],
      "execution_count": 106,
      "outputs": [
        {
          "output_type": "stream",
          "name": "stdout",
          "text": [
            "+---------+----------------+-------------------+-----+----------------+--------+---------+---------+-----+---------+----+------+\n",
            "|  Country|   state_cleaned|               Date|  _c0|           State|     Lat|     Long|Confirmed|Death|Recovered|City|Active|\n",
            "+---------+----------------+-------------------+-----+----------------+--------+---------+---------+-----+---------+----+------+\n",
            "| Thailand|         Bangkok|2020-03-20 00:00:00|27666|            null|    15.0|    101.0|      322|    1|       42|null|   279|\n",
            "|    Japan|         Hiraide|2020-03-20 00:00:00|27667|            null|    36.0|    138.0|      963|   33|      191|null|   739|\n",
            "|Singapore|       Singapore|2020-03-20 00:00:00|27668|            null|  1.2833| 103.8333|      385|    0|      124|null|   261|\n",
            "|    Nepal|       Kathmandu|2020-03-20 00:00:00|27669|            null| 28.1667|    84.25|        1|    0|        1|null|     0|\n",
            "| Malaysia|         Sarawak|2020-03-20 00:00:00|27670|            null|     2.5|    112.5|     1030|    3|       87|null|   940|\n",
            "|   Canada|British Columbia|2020-03-20 00:00:00|27671|British Columbia| 49.2827|-123.1207|      271|    8|        4|null|   259|\n",
            "|Australia| New South Wales|2020-03-20 00:00:00|27672| New South Wales|-33.8688| 151.2093|      353|    6|        4|null|   343|\n",
            "|Australia|        Victoria|2020-03-20 00:00:00|27673|        Victoria|-37.8136| 144.9631|      121|    0|        8|null|   113|\n",
            "|Australia|      Queensland|2020-03-20 00:00:00|27674|      Queensland|-28.0167|    153.4|      184|    0|        8|null|   176|\n",
            "| Cambodia|      Phnom Penh|2020-03-20 00:00:00|27675|            null|   11.55| 104.9167|       51|    0|        1|null|    50|\n",
            "+---------+----------------+-------------------+-----+----------------+--------+---------+---------+-----+---------+----+------+\n",
            "only showing top 10 rows\n",
            "\n"
          ]
        }
      ]
    },
    {
      "cell_type": "code",
      "metadata": {
        "colab": {
          "base_uri": "https://localhost:8080/"
        },
        "id": "-kfiOOMxYK_e",
        "outputId": "b718704b-4863-4c4f-c933-90edb2dc6e04"
      },
      "source": [
        "corona_max_df.groupBy(\"Country\").sum(\"Active\").orderBy(\"sum(Active)\",ascending = False).show()"
      ],
      "execution_count": 108,
      "outputs": [
        {
          "output_type": "stream",
          "name": "stdout",
          "text": [
            "+--------------+-----------+\n",
            "|       Country|sum(Active)|\n",
            "+--------------+-----------+\n",
            "|         Italy|      38549|\n",
            "|       Germany|      19601|\n",
            "|            US|      18856|\n",
            "|         Spain|      17779|\n",
            "|        France|      12264|\n",
            "|          Iran|      11466|\n",
            "|  Korea, South|       7018|\n",
            "|         China|       6731|\n",
            "|   Switzerland|       5225|\n",
            "|United Kingdom|       3769|\n",
            "|   Netherlands|       2894|\n",
            "|       Austria|       2373|\n",
            "|       Belgium|       2219|\n",
            "|        Norway|       1906|\n",
            "|        Sweden|       1607|\n",
            "|       Denmark|       1327|\n",
            "|      Portugal|       1009|\n",
            "|      Malaysia|        940|\n",
            "|        Canada|        922|\n",
            "|       Czechia|        829|\n",
            "+--------------+-----------+\n",
            "only showing top 20 rows\n",
            "\n"
          ]
        }
      ]
    },
    {
      "cell_type": "code",
      "metadata": {
        "id": "zHZYogtXYYwf"
      },
      "source": [
        ""
      ],
      "execution_count": null,
      "outputs": []
    }
  ]
}